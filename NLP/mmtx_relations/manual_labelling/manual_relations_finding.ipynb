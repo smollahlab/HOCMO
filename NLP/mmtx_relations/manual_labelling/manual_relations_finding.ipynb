{
 "cells": [
  {
   "cell_type": "code",
   "execution_count": 77,
   "id": "af878e6d",
   "metadata": {},
   "outputs": [],
   "source": [
    "from collections import Counter\n",
    "import pandas as pd"
   ]
  },
  {
   "cell_type": "code",
   "execution_count": 65,
   "id": "67dc8cec",
   "metadata": {},
   "outputs": [
    {
     "name": "stdout",
     "output_type": "stream",
     "text": [
      "Enter relation: TERMINATE\n"
     ]
    }
   ],
   "source": [
    "with open('breast_cancer_relations.csv', 'r') as f:\n",
    "    breast_cancer_relations = f.read().split('\\n')\n",
    "    breast_cancer_relations = [term.strip() for term in breast_cancer_relations]\n",
    "\n",
    "while True:\n",
    "    term = input('Enter relation: ')\n",
    "    if term == 'TERMINATE':\n",
    "        break\n",
    "    breast_cancer_relations.append(term.lower())\n",
    "    \n",
    "with open('breast_cancer_relations.csv', 'w') as f:\n",
    "    f.write('\\n'.join(breast_cancer_relations))"
   ]
  },
  {
   "cell_type": "code",
   "execution_count": 66,
   "id": "bb97c42f",
   "metadata": {},
   "outputs": [
    {
     "data": {
      "text/plain": [
       "139"
      ]
     },
     "execution_count": 66,
     "metadata": {},
     "output_type": "execute_result"
    }
   ],
   "source": [
    "len(breast_cancer_relations)"
   ]
  },
  {
   "cell_type": "code",
   "execution_count": 51,
   "id": "ee09982c",
   "metadata": {},
   "outputs": [
    {
     "name": "stdout",
     "output_type": "stream",
     "text": [
      "Enter relation: TERMINATE\n"
     ]
    }
   ],
   "source": [
    "with open('cardiovascular_disease_relations.csv', 'r') as f:\n",
    "    cardiovascular_disease_relations = f.read().split('\\n')\n",
    "    cardiovascular_disease_relations = [term.strip() for term in cardiovascular_disease_relations]\n",
    "\n",
    "while True:\n",
    "    term = input('Enter relation: ')\n",
    "    if term == 'TERMINATE':\n",
    "        break\n",
    "    cardiovascular_disease_relations.append(term.lower())\n",
    "    \n",
    "with open('cardiovascular_disease_relations.csv', 'w') as f:\n",
    "    f.write('\\n'.join(cardiovascular_disease_relations))"
   ]
  },
  {
   "cell_type": "code",
   "execution_count": 52,
   "id": "5e3a6991",
   "metadata": {},
   "outputs": [
    {
     "data": {
      "text/plain": [
       "424"
      ]
     },
     "execution_count": 52,
     "metadata": {},
     "output_type": "execute_result"
    }
   ],
   "source": [
    "len(cardiovascular_disease_relations)"
   ]
  },
  {
   "cell_type": "code",
   "execution_count": 53,
   "id": "42a87c42",
   "metadata": {},
   "outputs": [
    {
     "name": "stdout",
     "output_type": "stream",
     "text": [
      "Enter relation: TERMINATE\n"
     ]
    }
   ],
   "source": [
    "with open('neurological_disease_relations.csv', 'r') as f:\n",
    "    neurological_disease_relations = f.read().split('\\n')\n",
    "    neurological_disease_relations = [term.strip() for term in neurological_disease_relations]\n",
    "\n",
    "while True:\n",
    "    term = input('Enter relation: ')\n",
    "    if term == 'TERMINATE':\n",
    "        break\n",
    "    neurological_disease_relations.append(term.lower())\n",
    "    \n",
    "with open('neurological_disease_relations.csv', 'w') as f:\n",
    "    f.write('\\n'.join(neurological_disease_relations))"
   ]
  },
  {
   "cell_type": "code",
   "execution_count": 54,
   "id": "a4805d6a",
   "metadata": {},
   "outputs": [
    {
     "data": {
      "text/plain": [
       "334"
      ]
     },
     "execution_count": 54,
     "metadata": {},
     "output_type": "execute_result"
    }
   ],
   "source": [
    "len(neurological_disease_relations)"
   ]
  },
  {
   "cell_type": "code",
   "execution_count": 55,
   "id": "bada6181",
   "metadata": {},
   "outputs": [
    {
     "name": "stdout",
     "output_type": "stream",
     "text": [
      "Enter relation: TERMINATE\n"
     ]
    }
   ],
   "source": [
    "with open('blood_cancer_relations.csv', 'r') as f:\n",
    "    blood_cancer_relations = f.read().split(',')\n",
    "    blood_cancer_relations = [term.strip() for term in blood_cancer_relations]\n",
    "\n",
    "while True:\n",
    "    term = input('Enter relation: ')\n",
    "    if term == 'TERMINATE':\n",
    "        break\n",
    "    blood_cancer_relations.append(term.lower())\n",
    "    \n",
    "with open('blood_cancer_relations.csv', 'w') as f:\n",
    "    f.write('\\n'.join(blood_cancer_relations))"
   ]
  },
  {
   "cell_type": "code",
   "execution_count": 41,
   "id": "cab1d5cc",
   "metadata": {},
   "outputs": [
    {
     "data": {
      "text/plain": [
       "303"
      ]
     },
     "execution_count": 41,
     "metadata": {},
     "output_type": "execute_result"
    }
   ],
   "source": [
    "len(temp)"
   ]
  },
  {
   "cell_type": "code",
   "execution_count": 56,
   "id": "13b05181",
   "metadata": {},
   "outputs": [
    {
     "name": "stdout",
     "output_type": "stream",
     "text": [
      "Enter relation: TERMINATE\n"
     ]
    }
   ],
   "source": [
    "with open('lung_cancer_relations.csv', 'r') as f:\n",
    "    lung_cancer_relations = f.read().split('\\n')\n",
    "    lung_cancer_relations = [term.strip() for term in lung_cancer_relations]\n",
    "\n",
    "while True:\n",
    "    term = input('Enter relation: ')\n",
    "    if term == 'TERMINATE':\n",
    "        break\n",
    "    lung_cancer_relations.append(term.lower())\n",
    "    \n",
    "with open('lung_cancer_relations.csv', 'w') as f:\n",
    "    f.write('\\n'.join(lung_cancer_relations))"
   ]
  },
  {
   "cell_type": "code",
   "execution_count": 57,
   "id": "c6842b8a",
   "metadata": {},
   "outputs": [
    {
     "data": {
      "text/plain": [
       "374"
      ]
     },
     "execution_count": 57,
     "metadata": {},
     "output_type": "execute_result"
    }
   ],
   "source": [
    "len(lung_cancer_relations)"
   ]
  },
  {
   "cell_type": "code",
   "execution_count": 60,
   "id": "fd18366a",
   "metadata": {},
   "outputs": [],
   "source": [
    "diseases = [\n",
    "    'breast_cancer',\n",
    "    'cardiovascular_disease',\n",
    "    'neurological_disease',\n",
    "    'blood_cancer',\n",
    "    'lung_cancer'\n",
    "]\n",
    "relations = []\n",
    "for disease in diseases:\n",
    "    with open(f'{disease}_relations.csv', 'r') as f:\n",
    "        disease_relation = f.read().split('\\n')\n",
    "        relations += disease_relation\n",
    "with open(f'combined_disease_relations.csv', 'w') as f:\n",
    "    f.write('\\n'.join(relations))"
   ]
  },
  {
   "cell_type": "code",
   "execution_count": 67,
   "id": "bc2a98d4",
   "metadata": {},
   "outputs": [],
   "source": [
    "combined_relations = []\n",
    "with open(f'combined_disease_relations.csv', 'r') as f:\n",
    "    combined_relations = f.read().split('\\n')"
   ]
  },
  {
   "cell_type": "code",
   "execution_count": 79,
   "id": "d8dc00e0",
   "metadata": {},
   "outputs": [],
   "source": [
    "relation_counts = dict(Counter(combined_relations))\n",
    "relation_counts_df = pd.DataFrame({\n",
    "    'relation': list(relation_counts.keys()),\n",
    "    'count': list(relation_counts.values())\n",
    "})\n",
    "relation_counts_df.to_excel('relation_counts.xlsx')"
   ]
  },
  {
   "cell_type": "code",
   "execution_count": 123,
   "id": "b3ae079d",
   "metadata": {},
   "outputs": [],
   "source": [
    "# comparison for manually extracted relations vs CRO terms\n",
    "\n",
    "# unweighted i.e. unique terms\n",
    "relations_translations = pd.read_excel('relation_counts_rough_translations.xlsx')\n",
    "has_translation_abs = (sum(relations_translations['rough translation'].notna()) / len(relations_translations)) * 100\n",
    "\n",
    "# weighted by occurrence\n",
    "counts = relations_translations['count']\n",
    "has_translation_weighted = sum((relations_translations['rough translation'].notna() * 100) * counts) / sum(counts)"
   ]
  },
  {
   "cell_type": "code",
   "execution_count": 124,
   "id": "0afb7bc6",
   "metadata": {},
   "outputs": [
    {
     "name": "stdout",
     "output_type": "stream",
     "text": [
      "unweighted: 74.26%\n",
      "weighted by frequency of occurrence: 92.46%\n"
     ]
    }
   ],
   "source": [
    "print(f'unweighted: {has_translation_abs:.2f}%')\n",
    "print(f'weighted by frequency of occurrence: {has_translation_weighted:.2f}%')"
   ]
  }
 ],
 "metadata": {
  "kernelspec": {
   "display_name": "Python 3 (ipykernel)",
   "language": "python",
   "name": "python3"
  },
  "language_info": {
   "codemirror_mode": {
    "name": "ipython",
    "version": 3
   },
   "file_extension": ".py",
   "mimetype": "text/x-python",
   "name": "python",
   "nbconvert_exporter": "python",
   "pygments_lexer": "ipython3",
   "version": "3.9.12"
  }
 },
 "nbformat": 4,
 "nbformat_minor": 5
}
