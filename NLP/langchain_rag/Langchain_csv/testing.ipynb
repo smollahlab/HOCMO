{
 "cells": [
  {
   "cell_type": "code",
   "execution_count": 1,
   "metadata": {},
   "outputs": [],
   "source": [
    "import os\n",
    "import openai\n",
    "from langchain_text_splitters import TokenTextSplitter\n",
    "from langchain_experimental.agents import create_csv_agent\n",
    "from langchain_community.document_loaders import TextLoader, CSVLoader\n",
    "from langchain.agents.agent_types import AgentType\n",
    "from langchain_experimental.agents.agent_toolkits import create_csv_agent\n",
    "from langchain_openai import ChatOpenAI, OpenAI\n",
    "from langchain_core.output_parsers import StrOutputParser\n",
    "from langchain_core.prompts import ChatPromptTemplate\n",
    "from langchain import PromptTemplate\n",
    "from langchain.chains.combine_documents import create_stuff_documents_chain\n",
    "from dotenv import load_dotenv\n"
   ]
  },
  {
   "cell_type": "code",
   "execution_count": 15,
   "metadata": {},
   "outputs": [],
   "source": [
    "load_dotenv()\n",
    "openai_api_key = os.getenv('OPENAI_API_KEY')\n",
    "os.environ[\"OPENAI_API_KEY\"] =openai_api_key"
   ]
  },
  {
   "cell_type": "code",
   "execution_count": 3,
   "metadata": {},
   "outputs": [],
   "source": [
    "loader = TextLoader(\"/workspaces/langchain-rag-tutorial-main/data/raw_text_complete/10.1006_bbrc.2001.5639.txt\")\n",
    "data = loader.load()\n",
    "text_splitter = TokenTextSplitter(\n",
    "    # Controls the size of each chunk\n",
    "    chunk_size=500,\n",
    "    # Controls overlap between chunks\n",
    "    chunk_overlap=20,\n",
    ")\n",
    "\n",
    "texts = text_splitter.split_text(data[0].page_content)"
   ]
  },
  {
   "cell_type": "code",
   "execution_count": 4,
   "metadata": {},
   "outputs": [],
   "source": [
    "loader = CSVLoader(\"/workspaces/langchain-rag-tutorial-main/data/context/histones.csv\")\n",
    "csv_data = loader.load()"
   ]
  },
  {
   "cell_type": "code",
   "execution_count": 29,
   "metadata": {},
   "outputs": [
    {
     "name": "stderr",
     "output_type": "stream",
     "text": [
      "/usr/local/lib/python3.10/site-packages/langchain_core/utils/utils.py:161: UserWarning: WARNING! seed is not default parameter.\n",
      "                seed was transferred to model_kwargs.\n",
      "                Please confirm that seed is what you intended.\n",
      "  warnings.warn(\n"
     ]
    },
    {
     "name": "stdout",
     "output_type": "stream",
     "text": [
      "Based on the provided text and the task requirements, we need to extract relationships between histones, genes, and diseases mentioned in the text. However, the text primarily discusses HDAC1 and DNMT1 in the context of prostate cancer, without specific mention of histone modifications or specific histones (like H3K4me1, H3K36me2, etc.). Therefore, the relationships involving specific histones and genes or diseases cannot be directly extracted from the provided text.\n",
      "\n",
      "However, I can provide a template for how the CSV files should be structured based on the potential relationships that could be extracted if specific histones were mentioned:\n",
      "\n",
      "### Histone-Gene Relationship CSV Template\n",
      "```\n",
      "Histone,Gene,Relationship\n",
      "H3K4me1,HDAC1,0\n",
      "H3K4me1,DNMT1,0\n",
      "H3K36me2,HDAC1,0\n",
      "H3K36me2,DNMT1,0\n",
      "...\n",
      "```\n",
      "\n",
      "### Histone-Disease Relationship CSV Template\n",
      "```\n",
      "Histone,Disease,Relationship\n",
      "H3K4me1,Prostate Cancer,0\n",
      "H3K36me2,Prostate Cancer,0\n",
      "...\n",
      "```\n",
      "\n",
      "In these templates:\n",
      "- The `Histone` column lists potential histones that could be relevant based on the general knowledge of histone modifications.\n",
      "- The `Gene` column lists genes mentioned in the text (HDAC1 and DNMT1).\n",
      "- The `Disease` column lists the disease mentioned in the text (Prostate Cancer).\n",
      "- The `Relationship` column contains `0` indicating no direct relationship mentioned between the histone and the gene/disease in the provided text.\n",
      "\n",
      "To create these CSV files with actual data, you would need text or data sources that specifically mention relationships between particular histones and these genes or diseases. The current text does not provide such specific information, so all relationships are marked as `0`. If in future, specific relationships are mentioned, those cells can be updated to `1` to indicate a relationship exists as per the text.\n"
     ]
    }
   ],
   "source": [
    "template = \"\"\"You have access to {context} as a dictionary identifying canonical histone-gene relationships. \\n\n",
    "\n",
    "Your target/focus is to analyze {document}. Extract all histone-gene or histone-disease relationships that appear in the target, including relationships that aren't in the context.\\n\n",
    "Format your output as a csv file for each type of relationship. One CSV should have a histone axis and a gene axis. If a relationship was found from the text, input 1 at the (histone, gene) co-ordinate. If not, input 0\n",
    "Do the same for histone-disease relationship with a histone axis and a disease axis. Only include data extracted from the target.\n",
    "\"\"\"\n",
    "\n",
    "prompt = ChatPromptTemplate.from_template(template)\n",
    "\n",
    "llm = ChatOpenAI(model=\"gpt-4-turbo\",seed=42,temperature=0.1)\n",
    "chain = create_stuff_documents_chain(llm, prompt)\n",
    "\n",
    "docs = texts[:1]\n",
    "\n",
    "\n",
    "output = chain.invoke({\"context\": csv_data[:50],'document':docs})\n",
    "print ('%5s' % output)"
   ]
  },
  {
   "cell_type": "code",
   "execution_count": null,
   "metadata": {},
   "outputs": [],
   "source": []
  }
 ],
 "metadata": {
  "kernelspec": {
   "display_name": "Python 3",
   "language": "python",
   "name": "python3"
  },
  "language_info": {
   "codemirror_mode": {
    "name": "ipython",
    "version": 3
   },
   "file_extension": ".py",
   "mimetype": "text/x-python",
   "name": "python",
   "nbconvert_exporter": "python",
   "pygments_lexer": "ipython3",
   "version": "3.10.14"
  }
 },
 "nbformat": 4,
 "nbformat_minor": 2
}
