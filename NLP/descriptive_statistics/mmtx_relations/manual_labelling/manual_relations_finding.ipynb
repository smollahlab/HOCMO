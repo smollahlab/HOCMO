{
 "cells": [
  {
   "cell_type": "markdown",
   "id": "0ef6e108",
   "metadata": {},
   "source": [
    "# Manual Relations Analysis\n",
    "\n",
    "Analysis of relations extracted manually from selected articles. \n",
    "\n",
    "100 most frequent NER disease entities were manually categorized into disease groups (broader classifications of disease such as breast cancer, lung cancer, mental health disorder). For exact categorizations, see \"most_frequent_disease.xlsx\" file. The five most frequent disease categories were selected and 3 most enriched articles for each category were manually annotated. For list of extracted relations by diseaes category, see \"relations_csv/\" directory. Among the extracted relations, those already represented by synonymous terms in CRO were indicated. This notebook contains code that streamlined this process as well as code that was used to determine the percentage of manually extracted relations that are covered by CRO."
   ]
  },
  {
   "cell_type": "code",
   "execution_count": 1,
   "id": "af878e6d",
   "metadata": {},
   "outputs": [],
   "source": [
    "from collections import Counter\n",
    "import pandas as pd\n",
    "\n",
    "csv_dir = 'relations_csv' # directory containing relations by disease category"
   ]
  },
  {
   "cell_type": "code",
   "execution_count": 60,
   "id": "fd18366a",
   "metadata": {},
   "outputs": [],
   "source": [
    "# the five most frequent disease categories\n",
    "diseases = [\n",
    "    'breast_cancer',\n",
    "    'cardiovascular_disease',\n",
    "    'neurological_disease',\n",
    "    'blood_cancer',\n",
    "    'lung_cancer'\n",
    "]\n",
    "relations = [] # used to aggregate relations from all disease categories\n",
    "for disease in diseases:\n",
    "    # iterate through all 5 disease categories and aggregate relations\n",
    "    with open(f'{csv_dir}/{disease}_relations.csv', 'r') as f:\n",
    "        disease_relation = f.read().split('\\n')\n",
    "        relations += disease_relation\n",
    "with open(f'{csv_dir}/combined_disease_relations.csv', 'w') as f:\n",
    "    f.write('\\n'.join(relations))"
   ]
  },
  {
   "cell_type": "code",
   "execution_count": 79,
   "id": "d8dc00e0",
   "metadata": {},
   "outputs": [],
   "source": [
    "# read in combined list of relations\n",
    "combined_relations = []\n",
    "with open(f'{csv_dir}/combined_disease_relations.csv', 'r') as f:\n",
    "    combined_relations = f.read().split('\\n')\n",
    "\n",
    "# find unique relations in aggregated relations and calculate frequency\n",
    "# create {relation: count} dictionary for each unique relation\n",
    "relation_counts = dict(Counter(combined_relations))\n",
    "relation_counts_df = pd.DataFrame({\n",
    "    'relation': list(relation_counts.keys()),\n",
    "    'count': list(relation_counts.values())\n",
    "})\n",
    "# write to excel sheet\n",
    "relation_counts_df.to_excel(f'{csv_dir}/relation_counts.xlsx')"
   ]
  },
  {
   "cell_type": "code",
   "execution_count": 123,
   "id": "b3ae079d",
   "metadata": {},
   "outputs": [],
   "source": [
    "# Each unique relation was manually determined to have an equivalent relation in CRO already.\n",
    "# Relations that have no translation have an NaN in their row. \n",
    "\n",
    "# Calculate the percentage of coverage (i.e. what percent of relations have an equivalent in CRO)\n",
    "# unweighted i.e. unique terms\n",
    "relations_translations = pd.read_excel('relation_counts_rough_translations.xlsx')\n",
    "has_translation_abs = (sum(relations_translations['rough translation'].notna()) / len(relations_translations)) * 100\n",
    "\n",
    "# weighted by occurrence\n",
    "counts = relations_translations['count']\n",
    "has_translation_weighted = sum((relations_translations['rough translation'].notna() * 100) * counts) / sum(counts)\n",
    "\n",
    "print(f'unweighted: {has_translation_abs:.2f}%')\n",
    "print(f'weighted by frequency of occurrence: {has_translation_weighted:.2f}%')"
   ]
  }
 ],
 "metadata": {
  "kernelspec": {
   "display_name": "Python 3 (ipykernel)",
   "language": "python",
   "name": "python3"
  },
  "language_info": {
   "codemirror_mode": {
    "name": "ipython",
    "version": 3
   },
   "file_extension": ".py",
   "mimetype": "text/x-python",
   "name": "python",
   "nbconvert_exporter": "python",
   "pygments_lexer": "ipython3",
   "version": "3.9.12"
  }
 },
 "nbformat": 4,
 "nbformat_minor": 5
}
