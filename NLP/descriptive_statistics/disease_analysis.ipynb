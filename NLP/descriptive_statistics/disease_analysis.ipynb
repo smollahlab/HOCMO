{
 "cells": [
  {
   "cell_type": "code",
   "execution_count": 3,
   "id": "e6e6b370",
   "metadata": {},
   "outputs": [],
   "source": [
    "import pandas as pd\n",
    "import numpy as np\n",
    "import pickle"
   ]
  },
  {
   "cell_type": "code",
   "execution_count": 4,
   "id": "67aee946",
   "metadata": {},
   "outputs": [],
   "source": [
    "dir = \"..\"\n",
    "\n",
    "# discard the \"text\" data and mark which journal each article originated from\n",
    "with open(f'{dir}/savedCellArticles.pkl', 'rb') as f:\n",
    "    cell_data = pickle.load(f) # 924 articles\n",
    "    filtered_cell_data = {article: [entities, 'cell'] for article, [text, entities] in cell_data.items()}\n",
    "\n",
    "with open(f'{dir}/savedNatureArticles.pkl', 'rb') as f:\n",
    "    nature_data = pickle.load(f) # 401 articles\n",
    "    filtered_nature_data = {article: [entities, 'nature'] for article, [text, entities] in nature_data.items()}\n",
    "\n",
    "raw_combined_data = filtered_cell_data | filtered_nature_data # 1325 articles"
   ]
  },
  {
   "cell_type": "code",
   "execution_count": 5,
   "id": "110f2743",
   "metadata": {
    "scrolled": true
   },
   "outputs": [],
   "source": [
    "# check that delimiter is not a word found as an entity\n",
    "delimiter = 'delim'\n",
    "for article, [entities, origin] in raw_combined_data.items():\n",
    "    if (entities['word'] == delimiter).any():\n",
    "        print('Match found.') # we don't want to see this\n",
    "\n",
    "# write all entities to a text file\n",
    "# delimiter is used because the UMLS Norm tool sometimes outputs more than one line of output per input word\n",
    "# so this is a crude way of marking which lines in the output correspond to which line in the input\n",
    "with open('NormInput.txt', 'w', encoding='utf-8') as f:\n",
    "    for article, [entities, origin] in raw_combined_data.items():\n",
    "        f.write(f'\\n{delimiter}\\n'.join(entities['word'].tolist()))\n",
    "        f.write(f'\\n{delimiter}\\n')"
   ]
  },
  {
   "cell_type": "code",
   "execution_count": 6,
   "id": "87121484",
   "metadata": {},
   "outputs": [],
   "source": [
    "# at this point, the norm tool should have been run externally on the files\n",
    "\n",
    "# read in the Norm tool output file, process each line of output\n",
    "normalized_words = []\n",
    "with open('NormOutput.txt', 'r', encoding='utf-8') as f:\n",
    "    cache = ''\n",
    "    while True:\n",
    "        line = f.readline().strip()\n",
    "        if not line:\n",
    "            break\n",
    "        if line == f'{delimiter}|{delimiter}':\n",
    "            normalized_words.append(cache)\n",
    "        else:\n",
    "            cache = line\n",
    "normalized_words = [word.split('|')[1] for word in normalized_words]\n",
    "\n",
    "# populate the \"normalized word\" column of the corresponding entities dataframe \n",
    "for article, [entities, origin] in raw_combined_data.items():\n",
    "    n = len(entities['word'])\n",
    "    normalized_words_subset = normalized_words[:n]\n",
    "    del normalized_words[:n]\n",
    "    entities['normalized word'] = normalized_words_subset"
   ]
  },
  {
   "cell_type": "code",
   "execution_count": 7,
   "id": "83c4682c",
   "metadata": {},
   "outputs": [],
   "source": [
    "# calculate the frequency of each word\n",
    "disease_words = np.array([])\n",
    "unnormed_disease_words = np.array([])\n",
    "# word_lengths = np.array([])\n",
    "for article, [entities, origin] in raw_combined_data.items():\n",
    "    # aggregate every disease words instance\n",
    "    disease_words = np.append(disease_words, entities[entities['entity'] == 'disease']['normalized word'].astype('string').to_numpy())\n",
    "    unnormed_disease_words = np.append(unnormed_disease_words, entities[entities['entity'] == 'disease']['word'].astype('string').to_numpy())\n",
    "\n",
    "# calculate frequency of each distinct word\n",
    "uniq_disease_words, disease_counts = np.unique(disease_words, return_counts=True)\n",
    "uniq_unnormed_disease_words = np.unique(unnormed_disease_words)\n",
    "\n",
    "# sort by frequency\n",
    "disease_by_counts = {word: count for count, word in sorted(zip(disease_counts, uniq_disease_words), reverse=True)}\n",
    "disease_by_counts = pd.DataFrame({\n",
    "    'word': disease_by_counts.keys(),\n",
    "    'count': disease_by_counts.values()\n",
    "})"
   ]
  },
  {
   "cell_type": "code",
   "execution_count": 8,
   "id": "7e8da368",
   "metadata": {},
   "outputs": [],
   "source": [
    "# disease_by_counts.head(n=100).to_excel('most_frequent_diseases.xlsx')"
   ]
  },
  {
   "cell_type": "code",
   "execution_count": 9,
   "id": "1c410d3b",
   "metadata": {},
   "outputs": [],
   "source": [
    "# manual categorization for the first 100 entries\n",
    "\n",
    "# sort the general categories of diseases\n",
    "disease_categories = pd.read_excel('most_frequent_diseases.xlsx')\n",
    "categories_counts = {}\n",
    "disease_categories.fillna('', inplace=True)\n",
    "for index, row in disease_categories.iterrows():\n",
    "    if row['categorization'] == '':\n",
    "        continue\n",
    "    curr = categories_counts.get(row['categorization'], 0)\n",
    "    categories_counts[row['categorization']] = curr + int(row['count'])\n",
    "categories_by_counts = dict(sorted(categories_counts.items(), key=lambda item: item[1], reverse=True))"
   ]
  },
  {
   "cell_type": "code",
   "execution_count": 10,
   "id": "eac4ad1a",
   "metadata": {
    "scrolled": true
   },
   "outputs": [
    {
     "data": {
      "text/plain": [
       "{'cancer': 502,\n",
       " 'breast cancer': 188,\n",
       " 'cardiovascular disease': 134,\n",
       " 'neurological disease': 115,\n",
       " 'blood cancer': 87,\n",
       " 'lung cancer': 56,\n",
       " 'prostate cancer': 56,\n",
       " 'brain cancer': 54,\n",
       " 'liver cancer': 49,\n",
       " 'mental health disorder': 42,\n",
       " 'stomach cancer': 37,\n",
       " 'colorectal cancer': 28,\n",
       " 'viral infection': 20,\n",
       " 'obesity': 15,\n",
       " 'pancreatic cancer': 13,\n",
       " 'skin cancer': 12,\n",
       " 'lymphatic cancer': 11,\n",
       " 'diabetes': 11,\n",
       " 'immunodeficiency syndrome': 11,\n",
       " 'ovarian cancer': 10,\n",
       " 'kidney cancer': 10,\n",
       " 'esophageal cancer': 7,\n",
       " 'adenocarcinoma': 7,\n",
       " 'neuroblastoma': 6,\n",
       " 'pulmonary disease': 6,\n",
       " 'arthritis': 6,\n",
       " 'nasopharyngeal cancer': 5}"
      ]
     },
     "execution_count": 10,
     "metadata": {},
     "output_type": "execute_result"
    }
   ],
   "source": [
    "categories_by_counts\n",
    "# top 5 general categories:\n",
    "# 1) breast cancer\n",
    "# 2) cardiovascular disease\n",
    "# 3) neurological disease\n",
    "# 4) blood cancer\n",
    "# 5) lung cancer\n",
    "# \"cancer\" is by far the most abundant entity, but it is not \n",
    "# specific enough to be its own category. However, this suggests \n",
    "# that other types of cancer may deserve more weight than \n",
    "# cardiovascular or neurological disease."
   ]
  },
  {
   "cell_type": "code",
   "execution_count": 11,
   "id": "bcd22410",
   "metadata": {},
   "outputs": [],
   "source": [
    "# find articles enriched for the words corresponding to the\n",
    "# top 5 diseases of interest"
   ]
  },
  {
   "cell_type": "code",
   "execution_count": 12,
   "id": "78e0aa0c",
   "metadata": {},
   "outputs": [],
   "source": [
    "# find keywords for each of the selected diseases\n",
    "keywords_by_disease = {\n",
    "    'breast cancer': [],\n",
    "    'cardiovascular disease': [],\n",
    "    'neurological disease': [],\n",
    "    'blood cancer': [],\n",
    "    'lung cancer': []\n",
    "}\n",
    "for disease in keywords_by_disease.keys():\n",
    "    keywords_by_disease[disease] = list(disease_categories.loc[disease_categories['categorization'] == disease]['word'])\n",
    "\n",
    "# mark appearance of keywords for each article\n",
    "for article, [entities, origin] in raw_combined_data.items():\n",
    "    for disease, keywords in keywords_by_disease.items():\n",
    "        entities[f'is_{disease}_keyword'] = entities.apply(lambda row : 1 if row['normalized word'] in keywords else 0, axis=1)"
   ]
  },
  {
   "cell_type": "code",
   "execution_count": 13,
   "id": "d81784c1",
   "metadata": {},
   "outputs": [],
   "source": [
    "n_articles = 5 # number of articles per disease category\n",
    "articles_by_disease = {\n",
    "    'breast cancer': [],\n",
    "    'cardiovascular disease': [],\n",
    "    'neurological disease': [],\n",
    "    'blood cancer': [],\n",
    "    'lung cancer': []\n",
    "}\n",
    "\n",
    "# select n_articles number of articles most enriched for keywords for each disease category\n",
    "for disease in keywords_by_disease.keys():\n",
    "    articles_by_keyword_freqs = {}\n",
    "    for article, [entities, origin] in raw_combined_data.items():\n",
    "        articles_by_keyword_freqs[article] = sum(entities[f'is_{disease}_keyword'])\n",
    "    articles_by_disease[disease] = list(sorted(articles_by_keyword_freqs.items(), key=lambda i: i[1], reverse=True)[:n_articles])"
   ]
  },
  {
   "cell_type": "code",
   "execution_count": 102,
   "id": "19bfcc72",
   "metadata": {},
   "outputs": [
    {
     "data": {
      "text/plain": [
       "{'breast cancer': [('10.1016/j.jcpa.2012.01.021', 13),\n",
       "  ('10.1016/j.bbagrm.2019.03.002', 12),\n",
       "  ('10.1016/j.bbrc.2019.02.088', 12),\n",
       "  ('10.1016/j.gene.2022.146463', 10),\n",
       "  ('10.1016/j.freeradbiomed.2016.08.031', 9)],\n",
       " 'cardiovascular disease': [('10.1016/j.tcm.2015.08.006', 18),\n",
       "  ('10.1007/s10741-015-9483-x', 10),\n",
       "  ('10.1038/s41371-019-0218-7', 9),\n",
       "  ('10.1016/j.bbadis.2020.165836', 8),\n",
       "  ('10.1016/j.neuint.2019.03.004', 7)],\n",
       " 'neurological disease': [('10.1007/s00401-017-1732-8', 13),\n",
       "  ('10.1016/j.nbd.2014.11.023', 9),\n",
       "  ('10.1016/j.biopha.2018.01.110', 8),\n",
       "  ('10.1007/s10571-013-0012-y', 8),\n",
       "  ('10.1007/s11060-018-03018-6', 8)],\n",
       " 'blood cancer': [('10.1038/leu.2010.276', 16),\n",
       "  ('10.1038/leu.2012.86', 15),\n",
       "  ('10.1016/j.leukres.2005.05.010', 8),\n",
       "  ('10.1016/j.mehy.2013.04.021', 8),\n",
       "  ('10.1007/s00018-018-2895-8', 8)],\n",
       " 'lung cancer': [('10.1053/j.seminoncol.2005.07.007', 9),\n",
       "  ('10.1007/s10555-015-9563-3', 9),\n",
       "  ('10.1016/j.jss.2003.11.024', 6),\n",
       "  ('10.3816/CLC.2008.n.053', 5),\n",
       "  ('10.1038/sj.onc.1209068', 5)]}"
      ]
     },
     "execution_count": 102,
     "metadata": {},
     "output_type": "execute_result"
    }
   ],
   "source": [
    "articles_by_disease"
   ]
  },
  {
   "cell_type": "code",
   "execution_count": 75,
   "id": "a7ca50e9",
   "metadata": {},
   "outputs": [],
   "source": [
    "def get_atc(doi):\n",
    "    if doi in cell_data:\n",
    "        return cell_data[doi][0]\n",
    "    elif doi in nature_data:\n",
    "        return nature_data[doi][0]\n",
    "    else:\n",
    "        return None\n",
    "\n",
    "breast_cancer_atcs = [get_atc(doi) for doi, __ in articles_by_disease['breast cancer']]\n",
    "cardiovascular_disease_atcs = [get_atc(doi) for doi, __ in articles_by_disease['cardiovascular disease']]\n",
    "neurological_disease_atcs = [get_atc(doi) for doi, __ in articles_by_disease['neurological disease']]\n",
    "blood_cancer_atcs = [get_atc(doi) for doi, __ in articles_by_disease['blood cancer']]\n",
    "lung_cancer_atcs = [get_atc(doi) for doi, __ in articles_by_disease['lung cancer']]"
   ]
  },
  {
   "cell_type": "code",
   "execution_count": 103,
   "id": "d874146f",
   "metadata": {
    "scrolled": true
   },
   "outputs": [
    {
     "data": {
      "text/plain": [
       "[('10.1053/j.seminoncol.2005.07.007', 9),\n",
       " ('10.1007/s10555-015-9563-3', 9),\n",
       " ('10.1016/j.jss.2003.11.024', 6),\n",
       " ('10.3816/CLC.2008.n.053', 5),\n",
       " ('10.1038/sj.onc.1209068', 5)]"
      ]
     },
     "execution_count": 103,
     "metadata": {},
     "output_type": "execute_result"
    }
   ],
   "source": [
    "articles_by_disease['']"
   ]
  },
  {
   "cell_type": "code",
   "execution_count": 105,
   "id": "6a09b180",
   "metadata": {},
   "outputs": [
    {
     "data": {
      "text/plain": [
       "['Elsevier Inc.Drug exposure schema for evaluation of DAC, DP, or sequential DAC/DP treatment in cultured lung cancer cells and NHBE cells. Analysis of gene expression, and apoptosis was performed at the 96-hour time point for all treatment conditions. NM, normal media.Analysis of CTL recognition of lung cancer cells and NHBE cells following exposure to DAC, DP, or sequential DAC/DP. Control and drug-exposed cells, as well as cells transduced with an adenoviral–NY-ESO-1 construct (Ad-NY-ESO-1) or pulsed with NY-ESO-1 peptide were co-cultured with HLA-A201 restricted CTL specific for NY-ESO-1. DAC or sequential DAC/DP exposure facilitated CTL recognition of H2087 and H2228 cells. Drug treatment did not enable recognition of H1355 cells despite induction of NY-ESO-1. However, adenoviral-transduced H1355 cells expressing extremely high levels of NY-ESO-1, as well as peptide-pulsed H1355 cells were recognized by the CTL. Lack of NY-ESO-1 induction following drug treatment precluded CTL recognition of NHBE cells.Flow cytometry analysis of HLA class I expression on lung cancer cells following DAC, DP, or sequential DAC/DP exposure. Results of three representative cell lines are depicted. In general, sequential DAC/DP exposure enhanced surface expression in NSCLC lines such as H2087 and H2228 cells, as well as several SCLC lines including H1355.Analysis of apoptosis in cultured lung cancer cells and NHBE cells following exposure to DAC, DP, or sequential DAC/DP. In general, DP markedly potentiated DAC-mediated apoptosis in lung cancer cells. The effects of DAC and/or DP were somewhat less dramatic in several SCLC lines such as H1355 despite evidence of CTA induction, possibly due to prolonged doubling time of these cells. No apoptosis was observed in proliferating NHBE cells following drug exposure.Genes De-repressed in Lung Cancer CellsImprinted genesChromosome11p15.511p15.57q32Cancer testis genesChromosome20q13.2Xq28Xp21Xq26Xp21Xq133q2615q11Xp11Xp11Xp11Xq2415Q11Xq28Xq28Xp11.2Xp11.4Xp11.23Xp11.22Xq28Xq281p13Xq286q121p3121Q2212p1318Xq24Xp22—18–11Xq2Genes Frequently Hypermethylated in Lung Cancer CellsGeneFunctionGeneFunctionSignal transductionDrug transportApoptosisCell cycle regulationAdhesion/metastasisCell cycle regulationCell cycle regulationCell cycle regulationTranscriptional regulation-βSignal Transduction-πDetoxificationApoptosisChromatin remodelingMetastasisDNA mismatch repairAngiogenesisDrug transportMetastasisDNA repairApoptosisQuantitative RT-PCR Analysis of NY-ESO-1 and MAGE-3 Expression in Lung Cancer Cells and NHBE Cells Following DAC, DP, or Sequential DAC/DP ExposureNY-ESO-1MAGE-3CALU-6NM6CALU-6NM4,398DAC12,162(2,027)DAC2,009(0.5)DP22(3.7)DP3,238(0.7)DAC/DP33,002(5,500)DAC/DP12,102(2.7)H2087NM3H2087NM510DAC669(223)DAC1639(3.2)DP16(5.3)DP474(0.9)DAC/DP3,095(1,032)DAC/DP2,327(4.6)H2228NM15H2228NM20DAC9,281(619)DAC1,997(100)DP16(1.1)DP71(3.5)DAC/DP17,335(1,156)DAC/DP2,814(141)H1355NM140H1355NMN/DDAC3,036(21.7)DACN/DDP231(1.6)DPN/DDAC/DP14,309(102)DAC/DPN/DNHBENM144NHBENM10DAC349(2.4)DAC19(1.9)DP48(0.7)DP17(1.7)DAC/DP971(6.7)DAC/DP20(2)NOTE. Data are mRNA copy number/β-actin × 10 (fold increase relative to basal expression).Abbreviations: NM, normal media; N/D, not determined.⁎Alterations in chromatin structure resulting from aberrant DNA methylation and perturbations of the histone code profoundly influence gene expression during pulmonary carcinogenesis. Recent studies indicate that DNA demethylating agents and histone deacetylase (HDAC) inhibitors synergistically induce gene expression and apoptosis in cultured lung cancer cells, and prevent lung cancer development in animals following exposure to tobacco carcinogens. Preliminary clinical trials have established proof of principle regarding the use of DNA demethylating agents and HDAC inhibitors for enhancing immunogenicity and apoptosis of lung cancer cells, and have revealed the complexities concerning the mechanisms by which chromatin remodeling agents mediate antitumor effects in vivo. These data support additional investigations pertaining to the epigenetics of lung cancer, and the evaluation of chromatin remodeling agents for the treatment and prevention of this disease.Lung cancer is the leading cause of cancer-related deaths worldwide. In 2005, approximately 163,000 Americans and nearly 190,000 individuals within the European Union will die of this disease. Although accumulated risks of lung cancer are highest in North America and Europe, this disease is rapidly emerging as a major cause of mortality in Asia as well. For example, in Japan lung cancer is responsible for approximately 55,000 cancer-related deaths per year. In China, 1,000,000 deaths will be attributed to this disease over the next 50 years.The vast majority of lung cancers are directly attributable to cigarette smoking. In general, the incidence and evolving histology of lung cancer throughout the world reflect the prevalence of cigarette smoking, and the impact of filters, tar content, and variations in tobacco blends during the past several decades. For example, filters have reduced particle size within inhaled smoke, resulting in deposition of carcinogens deeper in the lungs. In addition, newer tobacco blends contain higher amounts of nitrates, which upon burning, form 4-(methylnotrosamino)-1-(3-pyridyl)-1-butanone (NNK). This nitrosamine, as well as polyaromatic hydrocarbons (PAH) such as benzo-A-pyrene, in cigarette smoke induce pulmonary adenocarcinomas in rodents that appear remarkably similar to human lung cancers.The global rise in lung cancer incidence, together with the fact that the overall 5-year survival rate of patients with this disease is less than 15%, underscores the magnitude of the lung cancer epidemic and the urgent need for a more thorough appreciation of the mechanisms responsible for this malignancy. The current review will highlight recent data concerning the epigenetics of lung cancer, and the potential use of chromatin remodeling agents for treatment and prevention.DNA methylation in conjunction with acetylation, phosphorylation, and methylation of core histone proteins modulate chromatin structure, contributing to dynamic patterns of gene expression during cell cycle progression, as well as persistent gene repression associated with imprinting and X chromosome inactivation. In normal cells, DNA methylation is mediated by opposing actions of DNA methyltransferases (DNMT) and DNA demethylases. To date, four DNMTs (DNMT1, 2, 3a, and 3b) have been characterized, all of which mediate transfer of the methyl group from S-adenosyl-methionine to the 5′ position of cytosine. Although considerable overlap has been noted, DNMT1 functions primarily in maintenance methylation, whereas DNMT3a and 3b are primarily involved in mediating de novo methylation. DNMT2 exhibits relatively low-level methylation activity. Methylation of cytosines within CpG islands of promoter and proximal coding regions results in recruitment of methyl binding proteins such as methyl-CpG binding protein 2 (MeCP2) and methyl binding domain protein 2 (MBD2), as well as histone deacetylases (HDACs), which inhibit gene expression via complex mechanisms that render promoters inaccessible to the transcription machinery. In normal cells, DNA demethylation occurs in the context of replication; however, methylation patterns are rapidly restored by DNA methyltransferases. Regional DNA demethylation also occurs in the context of chromatin remodeling via specific DNA demethylases, including 5 methylcytosine DNA glycosylase, as well as MBD2, which is recruited to methylated DNA to mediate demethylation.Post-translational modifications of core histone proteins are mediated via numerous enzymes, including histone acetyltransferases, HDACs, and histone methyltransferases. These modifications form a histone code that influences the specificity of interactions of core histones with DNA and other chromatin remodeling agents, coinciding with the activation status of chromatin. Recent data indicate that DNA methylation is mechanistically linked to the histone code. For example, transcriptionally active chromatin exhibits DNA demethylation in association with acetylation of core histones and methylation of lysine 4 on histone H3 (methyl-H3K4). In contrast, inactive chromatin exhibits DNA methylation, deacetylated core histones, and methylation of lysine 9 on histone H3 (methyl-H3K9).The precise timing of DNA methylation and modifications of core histones relative to activation or silencing of gene expression differs somewhat depending on the specific genes and models used to examine their expression. For example, colon cancer cells deficient for DNMT1 and 3b exhibit loss of  expression in association with methylation of histone H3K9, indicating that chromatin remodeling mechanisms are not directly dependent on DNA methylation. In contrast, silencing of ectopic  in prostate cancer cells is associated with histone deacetylation triggered by foci of methylated CpG dinucleotides, with histone methylation only occurring after histone deacetylation in the context of extensive DNA demethylation. Fahrner et al reported that in HCT116 cancer cells, promoter demethylation and  expression were detected 12 and 24 hours, respectively, following exposure to the DNA demethylating agent, 5-aza-2′-deoxycytidine (DAC); reversal of histone code components occurred 24 hours later. These data, together with observations that DNA demethylating agents and HDAC inhibitors exhibit synergistic effects regarding gene induction, further highlight the interdependence of DNA methylation and the histone code in modulating chromatin structure and gene expression in normal and malignant cells.Analyses of oncogene-induced transformation of cultured normal human bronchial epithelial (NHBE) cells, as well as clinical biopsies, have demonstrated that profound alterations in chromatin structure occur early during multistep pulmonary carcinogenesis. Global DNA demethylation results in de-repression of parasitic DNA, loss of imprinting (LOI), and induction of a variety of differentiation-related genes that are typically silenced in somatic tissues (). For example, approximately 40% of lung cancers exhibit LOI involving , resulting in overexpression of this paternally imprinted gene. Tobacco smoke induces expression of  in cultured NHBE cells; overexpression without LOI of  has been observed in histologically normal respiratory epithelium from smokers. Nakanishi et al observed preferential LOI involving paternally expressed imprinted gene 1/mesoderm-specific transcript () in 62% of cultured non-small cell lung cancer (NSCLC) cells compared to 14% of small cell lung cancer (SCLC) cell lines. Kohda et al observed LOI involving insulin-like growth factor II () and  in 50% and 85% of pulmonary adenocarcinomas, respectively, but not in adjacent normal lung tissues. Interestingly, monoallelic expression of small ribonucleoprotein-associated N peptide (), necdin (NDN), and long-QT intronic transcript 1 () was maintained in these tumors, indicating that not all imprinted genes are simultaneously expressed in lung cancer cells.In addition to mediating loss of imprinting, global DNA demethylation facilitates expression of a variety of genes that are silent in normal somatic cells. Typically, these genes exhibit stage-related expression during gametogenesis. Interestingly, a variety of genes that map to the X chromosome encode proteins defined as cancer testes antigens (CTAs), which are recognized by tumor-reactive lymphocytes. Because gametocytes lack expression of human leukocyte antigen (HLA) molecules necessary for antigen presentation, the CTAs are genuine tumor-specific targets for immunotherapy of a variety of human malignancies. Recent studies indicate that peptide or recombinant whole protein vaccines enhance the immune response to several CTAs, including MAGE-1, MAGE- 3, and NY-ESO-1, and this correlates with clinical response in some cancer patients.A variety of CTAs—including MAGE-1, MAGE-3, and NY-ESO-1—are expressed in lung cancer cells (). Sugita et al reported that five  subfamily members and  were among the 20 most highly expressed genes in a panel of lung cancer lines;  expression correlated with squamous cell histology in these cells. Lee et al observed that 40% of NSCLC lines and nearly 80% of SCLC lines expressed . Scanlan et al observed expression of , , , , , , , and  in 60%, 36%, 30%, 30%, 23%, 21%, 21%, and 15% of 33 NSCLCs, respectively. Wang et al examined expression of 11 CTAs in 51 NSCLCs from Oriental patients who received induction chemotherapy prior to definitive resection. Approximately 40% of tumors expressed  and 20% expressed NY-ESO-1, whereas 15% expressed either , , or , 12% expressed , , , or , and approximately 5% expressed  or . Overall, two thirds of the tumors expressed more than one CTA; expression of MAGE-3 or CT10 tended to occur more frequently in advanced malignancies. Tajima et al used reverse transcriptase–polymerase chain reaction (RT-PCR) techniques to examine expression of 12 CTAs in primary lung cancers from 46 Japanese patients.  expression was detected in 41% of lung cancers, whereas  was expressed in 35%,  in 28%, and  in 28% of these tumors. Sixty-two percent of squamous cell carcinomas, and 27% of adenocarcinomas expressed . Interestingly, in contrast to lung cancers from caucasians, only 10% of tumors from Japanese patients expressed  or , suggesting that race may influence lung cancer epigenetics. Overall, approximately 50% of all primary lung cancers expressed more than one CTA. Expression of  or  was observed in 76% of antigen-positive tumors, whereas expression of , , or  was noted in 88% of CTA-positive cancers; 94% of the antigen-positive tumors (70% of all cancers) expressed , , , or . Interestingly, only one tumor expressed all 12 CTAs examined in this study.Jang et al observed promoter hypomethylation of , , and  in 75%, 80%, and 80% of resected lung cancers, and 35%, 50%, and 55% of histologically normal tissues adjacent to these cancers. These data confirm that genome-wide demethylation occurs early during multistep pulmonary carcinogenesis, resulting in upregulation of numerous CTAs. Mecklenburg et al examined  expression in sputum and bronchoalveolar lavage (BAL) fluids from lung cancer patients using multimarker RT-PCR techniques. At least one  gene was detected in five of 15 patients with lung cancer. In contrast,  expression was detected in BAL fluid from 78% of the lung cancer patients, while dysplastic cells were detected in only 35% of these individuals. Two patients with benign disease (actinomycoses and severe bronchitis) exhibited  expression in BAL fluid. Overall, these preliminary data indicate that evaluation of  expression in exfoliated cells obtained by BAL may prove useful for early detection of lung cancer.Whereas their biologic functions have not been fully defined, several CTAs, including SSX and MAGE, may be involved in cell cycle regulation and cell division. For example, recent studies indicate that MAGE-1 interacts with Ski interacting protein (SKIP) and HDAC1 to mediate transcriptional repression. As such, depression of CTA may not merely represent a stochastic epiphenomenon of global DNA demethylation, but may actually contribute to the malignant phenotype of lung cancer cells. Melloni et al examined the expression status of several members of the , , and  families in 46 NSCLC patients undergoing potentially curative resections. Approximately 25% to 40% of the lung cancers expressed , , or , , , or , or . Overall, 60% of the cancers expressed at least one CTA.  expression appeared to be a significant, independent predictor of diminished survival in these individuals. In an additional study, Konishi et al used quantitative RT-PCR techniques to examine the relationship between  expression and clinical characteristics in 63 NSCLCs.  expression was observed in 32% of the tumors, and increased in a significant manner with advanced stage of disease and nodal status; however,  mRNA copy numbers did not correlate with clinical outcome. As such, the role of NY-ESO-1 in modulating the malignant phenotype of established lung cancers has not been determined.In the context of genome-wide demethylation, site-specific DNA methylation results in silencing of a variety of tumor-suppressor genes during pulmonary carcinogenesis (). Whereas the effects of CTA expression have not been fully delineated, the ramifications of epigenetic events that silence tumor-suppressor genes in lung cancer cells are much more evident. For example, restoration of , , or  expression by gene transfer techniques inhibits proliferation and tumorgenicity of cultured lung cancer cells. Additional studies have indicated that methylation events that silence tumor-suppressor genes are clinically relevant as well. Toyooka et al examined the relationship between methylation of , , , , and  (E-cadherin) in 351 lung cancer patients; methylation of p16 correlated significantly with poor prognosis in patients with pulmonary adenocarcinomas. Marsit et al evaluated methylation status of  and an adjacent tumor-suppressor gene, , which map to 3p21.3 in 160 lung cancers. Hypermethylation of  or BLU was detected in approximately 45% of the tumors. No association between methylation of these two genes was observed; however, methylation of  and  tended to occur more frequently in adenocarcinomas. RASSF1A promoter methylation correlated significantly with tobacco exposure commencing during adolescence. Kim et al examined smoking history relative to hypermethylation of , , and  in NSCLCs from 204 patients. Hypermethylation of , , and  occurred in 9%, 27%, and 32% of tumors, respectively. Whereas no relationship was observed between hypermethylation of  or  and tobacco exposure,  hypermethylation was significantly associated with onset of smoking at an earlier age. Furthermore, hypermethylation of  was associated with adverse survival in patients with stage I or stage II disease. Similar results were reported by Endoh et al, who observed methylation of RASSF1A in 42 of 100 primary lung cancers, and noted that methylation of this gene was significantly associated with diminished disease-free survival in patients with stage I or stage II disease. In an additional study, Zochbauer-Muller et al observed hypermethylation of  in 37% of 107 NSCLCs, and 9% of adjacent nonmalignant lung tissues. Maruyama et al detected methylation of E-cadherin, , , , , , , , and  in 52%, 41%, 38%, 27%, 27%, 20%, 0.8%, and 0%, of 124 resected lung cancers, respectively. Methylation of the  promoter correlated with advanced stage of disease, and significantly diminished patient survival.Histologically normal epithelia and premalignant lesions adjacent to lung cancers exhibit methylation of , , or , indicating that site- specific methylation occurs early during pulmonary carcinogenesis. Whereas analysis of methylation status of genomic DNA isolated from exfoliated cells in sputum may not be adequate for lung cancer diagnosis, recent data suggest that evaluation of BAL fluid may be a relatively more robust method for noninvasive lung cancer detection. Topaloglu et al used quantitative PCR methods to assess the methylation status of eight genes in bisulfite-treated genomic DNA from BAL fluids obtained from 31 lung cancer patients and 10 noncancer control patients; 68% of BAL samples from lung cancer patients were positive for aberrant promoter methylation. Collectively, these data attest to the significance of site specific methylation events during lung carcinogenesis, and suggest that analysis of promoter methylation in genomic DNA obtained by BAL may prove useful for noninvasive detection of lung cancers.Several studies have suggested that malignancies such as leukemias and colorectal carcinomas exhibit characteristic methylation phenotypes. To date, a lung cancer methylator phenotype has not been defined. Toyooka et al examined methylation status of eight tumor-suppressor genes in 115 NSCLC, 43 SCLC, and 40 bronchial carcinoid (BC) specimens. Methylation profiles in neuroendocrine tumors (SCLCs and BCs) differed from those of NSCLC; for example, the frequency of methylation of RASSFIA was significantly higher in the neuroendocrine tumors, whereas p16, CDH13, and APC were more frequently methylated in NSCLC. Furthermore, methylation profiles distinguished histologic subtypes of NSCLC (adeno  squamous). More recently, Toyooka et al examined the relationship between tobacco exposure, histologic subtype, and , , , , , , and  methylation status in 514 resected NSCLCs and 84 corresponding normal lung tissues from four countries (United States, Australia, Taiwan, and Japan). Methylation of specific genes appeared independent of methylation of others; tumors from current or former smokers exhibited an increase in overall mean methylation index (MI), as well as methylation of  and . In addition, 3, -β, and  were more frequently methylated in adenocarcinomas relative to squamous cell cancers. Interestingly, whereas gender did not appear to influence methylation status, tumors from Australian or American patients exhibited a higher frequency of methylation involving  and , once again suggesting that genetic factors may contribute to epigenetic profiles in lung cancer.A number of studies have demonstrated that increased DNMT expression/activity facilitates malignant transformation. For example,  overexpression induces DNA methylation and malignant transformation of NIH-3T3 cells. Abrogation of  expression by antisense techniques inhibits the malignant phenotype of cancer cells. Robertson et al used Northern blot and RT-PCR techniques to examine levels of expression of , , and  in a variety of normal and malignant human tissues including lung cancers.  was the predominant methyltransferase, being expressed at detectable levels in all adult tissues except small intestine. Whereas  and  were also expressed in all normal tissues examined, levels of these enzymes were considerably lower than . Various isoforms of  resulting from alternative splicing, were differentially expressed in normal cells. A three- to sevenfold increase in , , and , expression was observed in tumor specimens relative to adjacent normal tissue; the magnitude of  overexpression in cancer cells was not attributable to proliferation status. More recently, Yakushiji et al observed overexpression of DNMT1, 3a, and 3b in 72%, 56%, and 64% of oropharyngeal cancers relative to corresponding normal epithelia, suggesting that increased DNMT expression/activity may be a common theme of tobacco-induced aerodigestive tract carcinogenesis.Forty percent of pulmonary adenocarcinomas exhibit K-ras mutations, which induce DNMT expression and correlate significantly with tobacco exposure and diminished patient survival. Belinsky et al examined the role of DNA methyltransferases during NNK-induced lung carcinogenesis in A/J mice. Briefly, NNK exposure increased DNMT1 activity and enhanced DNA methylation in type II pneumocytes in A/J mice, but not in C3H mice that exhibit resistance to this tobacco carcinogen. DNMT1 activity in type II pneumocytes, which was not attributable to increased proliferation of these cells, coincided with progression to malignancy in A/J mice. Although not directly demonstrated in this study, increased DNMT levels in preneoplastic lesions coincided in a temporal manner with k-ras mutations, which are known to be early events during NNK-induced pulmonary carcinogenesis in A/J mice.Whereas genome-wide DNA demethylation contributes to induction of a number of CTAs in tumor cells, the mechanisms regulating expression in these genes during malignant transformation have not been fully defined. CTAs are not simultaneously expressed in primary lung cancer specimens, or cultured lung cancer cells even after exposure to DNA demethylating agents; these data suggest that genome-wide demethylation alone is insufficient to account for induction of CTA expression during malignant transformation. Indeed, Park and Lee reported that hypertonic saline induces  expression in cancer cells. Sato et al observed no association between DNMT expression and methylation status of , , or  in cultured lung cancer cells, indicating that aberrant DNMT expression/activity alone cannot account for site-specific promoter methylation during pulmonary carcinogenesis. Collectively, these observations suggest that other mechanisms, which are far more subtle and complex, establish the “methylation paradox” in lung cancer cells.In 1990, Lobanenkov et al isolated a novel DNA binding protein (CCCTC binding factor [CTCF]), which subsequently has been shown to be involved in chromatin insulator/boundary formation, X chromosome inactivation, and regulation of imprinted genes, as well as a variety of cell cycle genes including , , and . CTCF binds to diverse promoter sequences via combinatorial utilization of 11 zinc fingers, thereby recruiting chromatin remodeling proteins including sin3A and HDAC1.More recently, Loukinov et al isolated a paralogous gene referred to as brother of the regulator of imprinted sites (BORIS) that encodes a protein exhibiting extensive homology to CTCF in the zinc finger regions, but different 5′ and 3′ flanking sequences; as such, BORIS and CTCF exhibit comparable DNA binding activities, but mediate opposing effects due to recruitment of different proteins to chromatin. Whereas CTCF is ubiquitously expressed in normal somatic cells, BORIS is only transiently expressed during spermatogenesis, coincident with inhibition of CTCF expression and erasure of parental methylation patterns. Recent studies suggest that BORIS is aberrantly activated in a variety of human malignancies including lung cancers, and that competition between BORIS and CTCF contributes to induction of CTAs (and perhaps repression of tumor-suppressor genes) during pulmonary carcinogenesis.Post-translational modifications of core histone proteins significantly potentiate the complexity of epigenetic alterations mediated by aberrant DNA demethylation in cancer cells. For example, the steady-state level of acetylation of core histones is governed by opposing actions of histone acetyl transferases (HAT) and HDACs. Several families of HATs have been identified, including PCAF-GCN-5, p300/CBP, TAF-250, SRC-1, and MO2, which exhibit highly restricted substrate specificities. To date, nearly 20 HDACs have been identified, 11 of which have been characterized. Class I HDACs (HDACs 1, 2, 3, 8, and 11) are similar to yeast RPD3; these HDACs are localized in the nucleus, and associate with proteins such as sin-3a, NCOR, and MECP-2 to repress transcription.. Type II HDACs (HDACs 4, 5, 6, 7, 9, and 10) appear more similar to yeast HDA1P97, and are present in the cytoplasm as well as the nucleus. These exhibit specific as well as redundant functions in cells. Erk1/2 kinases associate with, and phosphorylate class II HDACs, thereby facilitating translocation to the nucleus and repression of transcription.Several recent studies have examined the role of HDACs in cancer cells. Glasser et al used small interfering (si)RNA techniques to investigate the role of class I and class II HDACs in cancer cells. Whereas siRNAs targeting HDAC4 or 7 had no antiproliferative effects, knock-down of HDAC1 or HDAC3 inhibited growth of HeLa cells, indicating that these class I HDACs may contribute to the malignant phenotype of cancer cells. Sasaki et al used quantitative RT-PCR techniques to evaluate  expression relative to clinicopathologic parameters in 102 resected lung cancer patients.  mRNA levels were significantly higher in stage III and stage IV cancers; T3 and T4 tumors exhibited higher  levels relative to T1 or T2 malignancies. In an additional study, Osada et al examined expression of HDACs relative to clinicopathologic features in 72 lung cancer patients. Whereas class 1 HDAC levels did not correlate with clinicopathologic features, reduced expression of class II HDACs (particularly HDACs 5 and 10) correlated with adverse outcome in these lung cancer patients. Heirarchical clustering suggested that class II HDACs may be regulated via a common mechanism that is disrupted during lung cancer development. Collectively, these studies suggest that aberrant HDAC levels/activities contribute to the malignant phenotype of lung cancer cells.Data cited above support the evaluation of DNMT and HDAC inhibitors for lung cancer therapy. The prototypic cytidine derivatives, 5-azacytidine (5-AC), DAC, and dihydroazacytidine (DHAC) compete with cytidine triphosphate for incorporation into DNA, and covalently trap DNMT onto DNA, thereby diminishing free DNMT levels resulting in DNA hypomethylation. In addition, 5-AC is incorporated into RNA, resulting in the inhibition of protein synthesis via several mechanism. Because 5-AC is incorporated into RNA more efficiently than DNA, this cytidine analogue is a less potent DNA demethylating agent than DAC. DHAC is not efficiently incorporated into DNA; as such, this cytidine analogue is a considerably less potent DNA demethylating agent than DAC or 5-AC. Recently, a stable cytidine analogue, zebularine, has been shown to form covalent complexes with DNMTs, and to mediate DNA demethylation and cytotoxicity preferentially in cancer cells. Although considerably less potent than DAC or 5-AC, zebularine reactivates  in cultured cancer cells and inhibits the growth of human cancer xenografts in nude mice without appreciable systemic toxicity. DNA replication is required for DNA demethylation mediated by all of these agents.Weiser et al used quantitative RT-PCR techniques to evaluate CTA induction in lung cancer cells and NHBE cells mediated by DAC and the HDAC inhibitor depsipeptide FK228 (DP); the treatment regimen is depicted in . Low-dose DAC (0.1 μmol/L for 72 hours) mediated robust de novo induction of  and  expression in lung cancer cells but not NHBE cells. DP (25 ng/mL for 6 hours) had minimal effects regarding CTA expression in cells exhibiting low-level CTA expression; however, this HDAC inhibitor markedly potentiated  and  expression in lung cancer cells (). Interestingly, DAC, DP, or sequential DAC/DP exposure did not induce  or  expression in NHBE cells. Following DAC or sequential DAC/DP exposure, lung cancer cells, but not NHBE cells, were recognized by HLA-restricted cytolytic T lymphocytes (CTL) specific for NY-ESO-1 (). The lack of an appropriate CTL precluded MAGE-3 recognition experiments. DAC and DP increased HLA class I expression on the surface of lung cancer cells. This phenomenon may have contributed to the enhanced recognition of these cells by NY-ESO-1–specific CTL (). However, DAC and/or DP treatment was insufficient to facilitate CTL recognition of H1355 SCLC cells, which exhibit deficient antigen processing despite robust induction of NY-ESO-1. Additional experiments revealed that under exposure conditions that induced CTA expression, DAC and DP markedly inhibited proliferation, and enhanced apoptosis in lung cancer cells; this phenomenon was not observed in NHBE cells ().Numerous studies have demonstrated induction of tumor-suppressor genes such as , , and  in cancer cells in vitro, or tumor xenografts following exposure to DAC or 5-AC, and enhancement of DAC- or 5-AC–mediated gene induction by HDAC inhibitors. Otterson et al observed that DAC (1 μmol/L for 4 hours) mediated induction of  in cultured lung cancer cells in which this gene was silenced by promoter methylation mechanisms. Subsequently, these investigators observed that expression of unmethylated  in lung cancer cells was enhanced by DAC, suggesting that the upregulation of tumor suppressor gene expression was not entirely due to promoter demethylation mechanisms. Zhu et al as well as Boivin et al observed that DAC and FK228, or DAC and phenylbutyrate (PB) mediated synergistic cytotoxic effects in cultured lung cancer cells, thus confirming the results initially reported by Weiser et al.Whereas induction of tumor-suppressor gene expression may contribute to growth inhibition in lung cancer cells mediated by DNA demethylating agents and HDAC inhibitors, the cytotoxic effects of these agents may be mediated by mechanisms unrelated to chromatin remodeling per se. For example, cytotoxicity mediated by DAC appears related to covalent trapping of DNMT on DNA; indeed, cancer cells deficient for DNMT1, 3b, or both, do not appear more susceptible to DAC than do parental cancer cells. In addition, recent studies indicate that modulation of proto-oncogene signaling significantly contributes to the cytotoxicity of HDAC inhibitors in cancer cells.DNMT1 and DNMT3b cooperate to silence tumor-suppressor gene expression during malignant transformation, and several recent studies have examined the effects of antisense-mediated depletion of , , or  in lung cancer cells. Milutinovic et al observed that an antisense oligonucleotide (ASO) specifically targeting -mediated intra-S-phase cell cycle arrest in cultured lung cancer cells, which was due to depletion of DNMT1 rather than genome-wide demethylation per se. In contrast, DAC mediated genome-wide demethylation but did not induce cell cycle arrest. Whereas  induction occurred within 24 hours following DAC exposure, demethylation of the  promoter did not occur until 72 hours after the onset of ASO treatment, at a time coinciding with S-phase arrest; these observations raise the possibility that ASO-mediated induction of  occurred via active demethylation mechanisms. Interestingly, knock-down of DNMT1 induced a variety of stress response genes including  and , but not CTAs such as  and , or tumor suppressors such as  These data extend previous studies from this group indicating that induction of  following exposure to DNMT inhibitors occurs via methylation-independent mechanisms, and suggest that depletion of DNMT by antisense techniques mediates effects different from those observed following inhibition of DNMT activity by DAC in cancer cells.Beaulieu et al developed specific and potent ASOs recognizing , and . The phoshphorothioate-modified ASOs targeted the 3′ untranslated region (UTR) sequences of  and  common to all of the splice variants, resulting in depletion of all  and  transcripts. Whereas the ASO targeting  had no antiproliferative effects, antisense to  mediated dose-dependent growth inhibition and apoptosis in A549 lung cancer cells. Interestingly, knock-down of  did not result in significant global DNA demethylation, and did not induce demethylation of classic satellite 2 region juxtacentromeric DNA. However, inhibition of  expression mediated induction of , , , and , as well as , which may have contributed to the pro-apoptotic effects of  knock-down in cultured lung cancer cells.Recently, we performed a series of experiments to examine the effects of ASO-mediated depletion of DNMTs in cultured cancer cells as a possible prelude to evaluation of these agents in lung cancer patients. Preliminary quantitative RT-PCR experiments indicated that lung cancer cells exhibit elevated  and  expression relative to cultured NHBE cells. A549 and CALU-6 lung cancer cells as well as NHBE cells were transfected either with ASOs targeting DNMT1 or DNMT3b, or mismatch oligos using lipofectamine techniques. Quantitative RT-PCR and Western blot analysis revealed that the ASOs mediated specific, dose-dependent depletion of  and , which coincided with a pronounced (80%) inhibition of proliferation of lung cancer cells. Depletion of  and  mediated synergistic, caspase-dependent apoptosis in A549 (p53 wt) and CALU-6 (p53 −/−) lung cancer cells; these effects were not observed following ASO transfection of NHBE cells. The antiproliferative effects of the ASOs were not attributable to induction of tumor-suppressor genes such as  or , and did not coincide with de-repression of CTAs including  and . Whereas p21 expression was induced following  and/or  depletion,  expression levels did not appear to coincide with apoptosis in lung cancer cells following inhibition of  expression. Long oligo-array analysis revealed that the ASOs induced expression of a variety of genes mediating response to genotoxic stress. Interestingly, gene expression profiles following , , or combined  knockdown were remarkably similar.Suzuki et al examined the effects of siRNA targeting  in H1299 lung cancer cells. The siRNA construct dramatically inhibited DNMT1 expression, thereby inducing expression of a variety of tumor suppressor genes including , , and . Modulation of gene expression was relatively transient, as genes that had been induced were silenced within 17 days following exposure to the siRNA, indicating a selective pressure for lung cancer cells to maintain their epigenetic profiles. Collectively, these observations, as well as data cited above, indicate that the antiproliferative effects of DNA methyl transferase inhibitors in lung cancer cells are contingent on the mechanisms by which these agents abrogate DNMT expression/activity, as well as the specificity, extent and duration of DNMT depletion.Recently, considerable research efforts have focused on the mechanisms by which HDAC inhibitors modulate gene expression, and mediate cell cycle arrest and apoptosis in cancer cells. To date, at least five classes of HDAC inhibitors have been identified including short chain fatty acids such as sodium butyrate and valproic acid, cyclic tetrapeptides such as trapoxin, organic hydroxamic acids such as TSA, LAQ824, and SAHA, benzamides such as MS-275 and CI-994, and bicyclic peptides such as DP FK228. Despite diverse chemical structures, each HDAC inhibitor contains a functional moiety, a linker, and a cap. The functional moiety binds to the catalytic pocket of HDACs to inhibit their activities; interactions between the cap structure and the N-acetyl lysine binding channel of individual HDACs determines the specificity of HDAC inhibitors. For example, FK228 as well as the hydroxamic acid derivatives inhibit class I HDACs; in contrast, the hydroxamic acids, but not FK228, inhibit class II HDACs.Whereas extensive review of the effects of HDAC inhibitors in normal and cancer cells is beyond the scope of this presentation, recent data indicate that these agents regulate gene expression and preferentially inhibit proliferation of cancer cells via alterations in chromatin structure mediated by direct acetylation of core histones, as well as modulation of signal transduction pathways and acetylation of nonhistone proteins such as p53, and Hsp90. Eickhoff et al observed that the prototypic HDAC inhibitor TSA induced expression of , , , , , , , , and  in cultured pulmonary adenocarcinoma cells. Sambucetti et al reported that trapoxin induced  expression without affecting , , or  levels in cultured lung cancer cells. Sandor et al observed that FK228, which exhibits histone actylation activity comparable to TSA, inhibited  expression and mediated p21-dependent G1/S arrest as well as p21-independent G2/M arrest and apoptosis in colon cancer cells. Yu et al observed that DP mediated time-dependent apoptosis in cultured NSCLC cells irrespective of , , , , or  expression status. DP enhanced expression of p21 and cyclin E, and markedly reduced cyclin A, cyclin B, and phosphorylated Rb, without significantly altering cdk1, cdk2, or cdk4 protein levels. In addition, DP mediated acetylation of Hsp90, resulting in depletion of several client oncoproteins, including mutant p53, erbB1, erbB2, and raf-1, and diminished signaling via ras-raf-MEK-ERK pathways. Subsequent experiments revealed that DP-mediated apoptosis in lung cancer cells also coincided with inhibition of epidermal growth factor receptor (EGFr)-mediated cell survival signaling via Src, as well as PI3kinase/AKT signal transduction pathways. Inhibition of mitogen-activated protein (MAP) kinase signaling resulted in downregulation of  and  with upregulation of . Interestingly, DP enhanced signaling via p38 and SAPK/JNK pathways. Pharmacologic antagonists of EGFr and PI3kinase/AKT signaling markedly potentiated DP-mediated apoptosis in lung cancer cells. In additional studies, Tsurutani et al examined the effects of FK228 in cultured SCLC lines and drug-resistant derivatives. FK228 mediated G2/M arrest, and markedly inhibited telomerase expression, resulting in apoptosis in these cells. Interestingly, cells resistant to conventional cytotoxic agents were sensitive to DP.Cameron et al observed that TSA potentiated tumor-suppressor gene induction mediated by DNA demethylating agents in cancer cells. Weiser et al demonstrated that DP markedly augmented CTA expression mediated by DAC in lung cancer cells. Whereas the potentiation of 5-AC or DAC-mediated gene induction by HDAC inhibitors has been attributed to histone acetylation, this phenomenon is not solely attributable to chromatin remodeling. Indeed, recent studies indicate that histone acetylation status does not necessarily coincide with activation of gene expression in cancer cells. Steiner et al observed that sequential DAC/DP treatment induced expression of tissue factor pathway inhibitor-2 () in cultured lung cancer cells. Additional experiments indicated that promoter methylation coincided with loss of  expression in a number of lung cancer lines, as well as primary lung cancer specimens; interestingly, several lung cancer lines were deficient for  expression in the absence of promoter methylation. DAC induced expression of  in cancer cells exhibiting  methylation; DP augmented DAC-mediated induction of  in these cancer cells. Whereas DP alone had minimal effects regarding induction of methylated , this HDAC inhibitor was sufficient to restore expression of  in cancer cells in which this gene was not methylated. Relative to DAC or DP treatment alone, sequential DAC/DP always mediated supra-additive effects regarding induction of  expression irrespective of  promoter methylation status. Sodium bisulfite sequencing experiments confirmed that in cells exhibiting methylation of the  promoter, DAC mediated demethylation of a CpG island within the  promoter. Chromatin immunoprecipitation experiments revealed that DP mediated acetylation of core histones within this CpG island, indicating that chromatin remodeling contributed to induction of  expression by this HDAC inhibitor. Interestingly, the protein kinase C (PKC) signal agonist phorbol 12,13 dibutyrate (PDBU) induced expression of  comparable to that observed following exposure to DP in cancer cells deficient for  expression in the absence of promoter methylation. PDBU also enhanced DAC-mediated induction of  in cells exhibiting methylation of this gene. In contrast, the PKC antagonist, calphostin abrogated the effects of DP regarding induction of  in cancer cells. Interestingly, preliminary experiments from our lab indicate that modulation of PKC signaling also contributes to DP-mediated enhancement of CTA expression in lung cancer cells following DAC exposure. Furthermore, we have observed that activation of PKC signaling is a major mechanism by which  is induced by DP; inhibition of PKC signaling by calphostin completely abrogates upregulation of p21, and markedly potentiates DP-mediated apoptosis in cultured lung cancer cells. Collectively, these data clearly demonstrate that DP enhances DAC-mediated gene expression via histone acetylation as well as activation of PKC signaling, and highlight the complexities regarding elucidation of the mechanisms by which DNA demethylating agents and HDAC inhibitors modulate gene expression and apoptosis in cancer cells.Induction of gene expression and apoptosis by distinct, yet cooperative mechanisms involving chromatin remodeling and modulation of signal transduction pathways in cancer cells by DNMT and HDAC inhibitors strengthens the rationale for use of these agents as a means to enhance immunogenicity and apoptosis of primary lung cancers. To date, experience with DNA demethylating agents and HDAC inhibitors in lung cancer patients is rather limited. In a phase I/II study, Momparler et al treated 15 lung cancer patients with DAC (200 to 660 mg/m) administered via 1- to 8-hour infusion. The mean DAC plasma concentration following an 8-hour infusion of 660 mg/m DAC was 0.94 μg/mL (∼4 μmol/L). Stabilization of disease was observed in three patients, one of whom experienced prolonged survival (>60 months). Dose-limiting toxicities included myelosuppression; nonhematologic toxicities included transient nausea and vomiting, asthenia, and myalgias.In light of the fact that the half-life of DAC in plasma is relatively short (t = 7 minutes, t = 35 minutes), the efficacy of this agent in lung cancer patients may be contingent on the total dose as well as the duration of infusion; indeed, studies involving leukemia patients suggest that the duration of DAC exposure may be more important than the total dose. Recently, we initiated a series of clinical trials at the National Cancer Institute in an effort to recapitulate drug exposure conditions that mediated growth arrest and immunogenicity of lung cancer cells in our laboratory experiments. A phase I trial of DAC-mediated induction of tumor antigen and tumor-suppressor gene expression was conducted to ascertain the pharmacokinetics, maximum tolerated dose (MTD), and toxicities of DAC administered as a continuous 72-hour infusion every 35 days in patients with advanced thoracic malignancies. Additional end points included evaluation of expression of  and  proteins in tumor tissues, as well as assessment of immune response to NY-ESO-1 before and after DAC infusion. Thirty-four patients were treated on this dose-escalation study, of which 25 were evaluable for toxicity and response. The MTD was 75 mg/m for individuals with two or fewer prior treatments, and 60 mg/m for patients with three or more prior therapies. Myelosuppression was dose-limiting in these individuals. Eight patients exhibited stabilization of disease (two remained on study for more than 1 year); however, no objective responses were observed despite the fact that plasma DAC levels equaled if not exceeded threshold values for gene induction observed in our preclinical experiments. Immunohistochemistry analysis revealed induction of NY-ESO-1 and p16 protein expression in nine of 15, and eight of 17 evaluable patients, respectively. Post-treatment antibodies to NY-ESO-1 were detected in two of 13 lung cancer patients, both of whom exhibited NY-ESO-1 induction in their tumor tissues. Unequivocal evidence of a cumulative treatment effect was observed in one patient on this study.An additional trial involved a phase II study of gene induction mediated by four hour DP infusions in lung cancer patients. The primary end points of this trial included evaluation of clinical response following administration of DP at the MTD on days 1 and 7 of a 21-day cycle, and assessment of histone acetylation status, as well as expression of  and  in primary tumor tissues following DP infusion; this protocol served to establish molecular and clinical end points of DP monotherapy prior to a sequential DAC/DP trial. Nineteen patients were treated on this trial, 18 of which were evaluable for toxicity and response. Several individuals exhibited transient stabilization of disease; however, no objective responses were observed, despite the fact that plasma free DP levels equaled if not exceeded those concentrations used in our preclinical experiments. Whereas induction of CTAs was seldom observed, enhanced histone acetylation and/or p21 induction in tumor tissues was evident in 40% of patients receiving DP infusions.In order to more comprehensively examine gene expression in primary lung cancers before and after exposure to chromatin remodeling reagents, methodologies were established for microarray analysis using amplified RNA isolated from laser capture tumor cells. This analysis revealed complex patterns of gene expression in patient tumors. A variety of potentially relevant tumor-suppressor genes were induced in DP-treated patients; however, gene expression profiles did not coincide in any obvious manner with treatment response (D.S. Schrump, manuscript in preparation).The preceding trials provided the basis for an ongoing phase I study of gene induction mediated by sequential DAC/DP infusion in patients with pulmonary or pleural malignancies; DAC is infused on days 1 to 3, whereas DP is administered on days 4 and 10 of a 35-day cycle. The primary end points of this study include evaluation of the pharmacokinetics of sequential DAC/DP infusion, as well as analysis of a variety of translational end points that have been assessed in preceding clinical trials. Microarray techniques have been used routinely for comprehensive analysis of gene expression profiles in laser captured cancer cells. To date, 22 patients have been treated on this dose-escalation study; the present cohort is receiving DAC and DP at the respective MTDs. Preliminary microarray analysis indicates that a variety of genes encoding potentially relevant tumor antigens as well as tumor-suppressor genes have been induced in primary lung cancers following sequential DAC/DP exposure; however, the patterns of gene induction are highly variable, possibly reflecting drug exposure conditions within tumor microenvironments, as well as the underlying complexity of lung cancer epigenetics. Whereas no objective responses have been observed thus far, several mesothelioma patients have exhibited stabilization of disease. Interestingly, Vogelzang et al reported an overall response rate of 17% (including one complete response and two partial responses) in 41 mesothelioma patients treated with DAC (1,500 mg/m/d × 5 days). These observations suggest that mesotheliomas may be relatively sensitive to the cytotoxic effects of chromatin remodeling agents.It is perplexing that despite exposure to drug concentrations that mediate growth arrest and apoptosis in cultured cancer cells, primary lung carcinomas appear refractory to the cytotoxic effects of DAC and DP. These observations indicate that gene expression profiles induced by these agents in vivo may not be conducive for apoptosis, and warrant evaluation of additional strategies to optimize cytotoxicity mediated by these chromatin remodeling agents in lung cancer cells. For example, DNMT as well as HDAC inhibition induces expression of , which is known to inhibit apoptosis in cancer cells following exposure to a variety of conventional cytotoxic agents as well as HDAC inhibitors. Recently, we observed that abrogation of  expression by flavopiridol (FLA) markedly enhanced DP-mediated apoptosis in cultured lung and esophageal cancer, as well as malignant pleural mesothelioma cells. Sequential DP/FLA treatment induced minimal cytotoxicity in NHBE cells, normal human dermal fibroblasts, or peripheral mononuclear cells. Constitutive overexpression of  via a recombinant adenoviral construct completely abrogated the cytotoxic effects of sequential DP/FLA. Inhibition of PKC signaling was a major mechanism by which FLA abrogated DP-mediated induction of  expression in cultured cancer cells.The pronounced and preferential cytotoxicity of sequential DP/FLA in cultured cancer cells under exposure conditions achievable in clinical settings, and the potential lack of overlapping toxicities of these agents, support evaluation of sequential DP/FLA infusion in lung cancer patients. As such, we recently initiated a phase I study of sequential DP/FLA infusion in order to ascertain the MTD, and dose-limiting toxicities of sequential 6-hour DP/72-hour FLA infusion in patients with malignancies involving lungs, esophagus, or pleura. Additional end points include analysis of gene expression profiles and apoptosis in laser captured tumor cells, buccal mucosa, and peripheral blood mononuclear cells before and after sequential DP/FLA exposure. In this trial, we will develop tissue proteomic techniques to further assess treatment response in patients receiving DP/FLA infusions.In light of the fact that inhibitors of DNMTs and HDACs target molecular events that occur early during pulmonary carcinogenesis, it is conceivable that these agents might be efficacious for prevention of lung cancer in high-risk individuals. Data reported by Belinsky et al clearly indicate that increased DNMT levels/activities in type II pneumocytes coincide with the development of adenocarcinomas in A/J mice following NNK exposure. Lantry et al observed that DAC (1 mg/kg/d) significantly inhibited the incidence and multiplicity of NNK-induced tumors in C3H/A/J × A/J F1 hybrid mice. Hammond et al reported that 5-AC reduced tumor formation in a hamster model of bronchogenic carcinoma; early administration of 5-AC following carcinogen exposure was more efficacious than treatment administered at a later time during cancer development. In a more recent study, Belinsky et al examined the effects of DAC in conjunction with phenylbutyrate (PB) in A/J DNMT1 heterozygote mice following NNK exposure. Whereas PB had no effect, combined DAC/PB treatment significantly decreased the number of pulmonary lesions in DNMT control mice. DNMT1 heterozygotes exhibited a 50% reduction in DNMT levels in type II pneumocytes, which coincided with a comparable reduction in the number of pulmonary lesions following NNK exposure. DAC further reduced the number of pulmonary lesions, whereas PB had no preventive effect in NNK-treated DNMT1 heterozygote mice. The effects of combined DAC/PB treatment in the DNMT mice did not appear any different from those observed following DAC alone due to the profound effects of DAC in mice exhibiting a hypomorphic DNMT phenotype. In additional studies, Desai et al reported that SAHA administered as a dietary supplement mediated an 80% reduction of lung tumor multiplicity in female A/J mice following NNK exposure. Interesting, SAHA inhibited the α-hydroxylation pathway in liver and lung microsomes, raising the possibility that this HDAC inhibitor prevented activation of NNK.Collectively, these data support the evaluation of chromatin remodeling agents for chemoprevention in patients at high risk for lung cancer, and several clinical trials have been or soon will be initiated to examine these issues. As these trials procced, it will be important to bear in mind that chronic, systemic depletion of DNMTs may destabilize the genome and facilitate malignant transformation. For example, Gaudet et al observed that mice with a hypomorphic DNMT1 allele, which reduced DNMT1 expression to 10% of wild-type levels, exhibited global hypomethylation in all tissues, and developed aggressive T-cell lymphomas with a high frequency of trisomy between 4 and 8 months of age. Eden et al crossed NP1, p53 heterozygote (NPeis) mice with mice exhibiting a hypomorphic DNMT1 allele (DNMTC), and observed that offspring developed sarcomas at an earlier age than litter mates with normal DNMT1 levels. Furthermore, rearrangements involving pericentromeric heterochromatin of chromosome 1 (as well as chromosomes 16 and 9) have been observed in normal hematopoetic cells following brief exposure to 5-AC or DAC.Recent insights regarding the mechanisms that regulate chromatin structure provide impetus for the development of specific therapies targeting the epigenome in lung cancer cells. Whereas the cytidine derivatives appear to have significant activity in hematologic malignancies as well as myelodysplastic syndrome, DAC exhibits minimal activity regarding regression of lung cancers despite gene induction in these malignancies. Similarly, DP FK228 appears to have little clinical activity in lung cancer patients, despite apparently relevant target gene induction. Ongoing efforts are underway at the National Cancer Institute to identify strategies to enhance CTA expression and apoptosis in cancer cells mediated by DNA demethylating agents and HDAC inhibitors as a prelude to the utilization of gene induction regimens in conjunction with vaccines targeting NY-ESO-1 and MAGE-3 CTAs in lung cancer patients. Whereas preclinical data indicate that ASOs targeting DNMT1 markedly inhibit proliferation of lung cancer cells, preliminary trials by Davis et al and Stewart et al suggest that these agents do not mediate cancer regressions in patients with solid tumors, possibly due to limited transduction efficiency when administered systemically. Nevetheless, ASOs targeting DNMTs are attractive agents for administration via regional techniques in lung cancer patients or individuals at high risk for the development of this disease. To date, the efficacy of chromatin remodeling agents for enhancing response to conventional cytotoxic chemotherapy regimens in lung cancer patients has not been evaluated in a systematic manner. Well-designed clinical trials are necessary to determine if chromatin remodeling agents can be administered with acceptable toxicities at doses that will modulate gene expression and mediate clinical regression of lung cancers. All clinical trials using DNA demethylating agents and HDAC inhibitors should include analysis of appropriate target genes in pre- and post-treatment tumor biopsies in order to validate mechanisms of treatment response and to correlate molecular endpoints with clinical outcome. Despite the limited results of clinical trials thus far, the strength of the preclinical data cited above warrant continued investigation of the epigenetics of lung cancer, and the evaluation of chromatin remodeling agents for the treatment and prevention of this lethal disease.Vaccine-induced CD4 T cell responses to MAGE-3 protein in lung cancer patientsCD8 T lymphocyte and antibody responses in peptide-vaccinated patients with NY-ESO-1 cancers',\n",
       "      entity              word  start   end  interval classification  \\\n",
       " 0   disease       lung cancer    104   115        11           NULL   \n",
       " 1   disease       lung cancer    299   310        11           NULL   \n",
       " 2   genetic          ny-eso-1    464   472         8           NULL   \n",
       " 3   genetic       ad-ny-eso-1    484   495        11           NULL   \n",
       " 4   genetic  ny-eso-1 peptide    512   528        16           NULL   \n",
       " 5   genetic          hla-a201    551   559         8           NULL   \n",
       " 6   genetic          ny-eso-1    588   596         8           NULL   \n",
       " 7   genetic                 d    598   599         1           NULL   \n",
       " 8   genetic          ny-eso-1    764   772         8           NULL   \n",
       " 9   genetic          ny-eso-1    853   861         8           NULL   \n",
       " 10  genetic          ny-eso-1    937   945         8           NULL   \n",
       " 11  genetic       hla class i   1048  1059        11           NULL   \n",
       " 12  disease       lung cancer   1074  1085        11           NULL   \n",
       " 13  disease             nsclc   1269  1274         5           NULL   \n",
       " 14  disease              sclc   1331  1335         4           NULL   \n",
       " 15  disease       lung cancer   1392  1403        11           NULL   \n",
       " 16  disease       lung cancer   1540  1551        11           NULL   \n",
       " 17  disease              sclc   1627  1631         4           NULL   \n",
       " 18  disease       lung cancer   1843  1854        11           NULL   \n",
       " 19  genetic            genes1   1870  1894        24           NULL   \n",
       " \n",
       "     normalized word  is_breast cancer_keyword  \\\n",
       " 0       cancer lung                         0   \n",
       " 1       cancer lung                         0   \n",
       " 2          1 eso ny                         0   \n",
       " 3       1 ad eso ny                         0   \n",
       " 4   1 eso ny peptid                         0   \n",
       " 5          a201 hla                         0   \n",
       " 6          1 eso ny                         0   \n",
       " 7                 d                         0   \n",
       " 8          1 eso ny                         0   \n",
       " 9          1 eso ny                         0   \n",
       " 10         1 eso ny                         0   \n",
       " 11      class hla i                         0   \n",
       " 12      cancer lung                         0   \n",
       " 13            nsclc                         0   \n",
       " 14             sclc                         0   \n",
       " 15      cancer lung                         0   \n",
       " 16      cancer lung                         0   \n",
       " 17             sclc                         0   \n",
       " 18      cancer lung                         0   \n",
       " 19           genes1                         0   \n",
       " \n",
       "     is_cardiovascular disease_keyword  is_neurological disease_keyword  \\\n",
       " 0                                   0                                0   \n",
       " 1                                   0                                0   \n",
       " 2                                   0                                0   \n",
       " 3                                   0                                0   \n",
       " 4                                   0                                0   \n",
       " 5                                   0                                0   \n",
       " 6                                   0                                0   \n",
       " 7                                   0                                0   \n",
       " 8                                   0                                0   \n",
       " 9                                   0                                0   \n",
       " 10                                  0                                0   \n",
       " 11                                  0                                0   \n",
       " 12                                  0                                0   \n",
       " 13                                  0                                0   \n",
       " 14                                  0                                0   \n",
       " 15                                  0                                0   \n",
       " 16                                  0                                0   \n",
       " 17                                  0                                0   \n",
       " 18                                  0                                0   \n",
       " 19                                  0                                0   \n",
       " \n",
       "     is_blood cancer_keyword  is_lung cancer_keyword  \n",
       " 0                         0                       1  \n",
       " 1                         0                       1  \n",
       " 2                         0                       0  \n",
       " 3                         0                       0  \n",
       " 4                         0                       0  \n",
       " 5                         0                       0  \n",
       " 6                         0                       0  \n",
       " 7                         0                       0  \n",
       " 8                         0                       0  \n",
       " 9                         0                       0  \n",
       " 10                        0                       0  \n",
       " 11                        0                       0  \n",
       " 12                        0                       1  \n",
       " 13                        0                       1  \n",
       " 14                        0                       1  \n",
       " 15                        0                       1  \n",
       " 16                        0                       1  \n",
       " 17                        0                       1  \n",
       " 18                        0                       1  \n",
       " 19                        0                       0  ]"
      ]
     },
     "execution_count": 105,
     "metadata": {},
     "output_type": "execute_result"
    }
   ],
   "source": [
    "cell_data['10.1053/j.seminoncol.2005.07.007']"
   ]
  },
  {
   "cell_type": "code",
   "execution_count": null,
   "id": "6b7ce9c7",
   "metadata": {},
   "outputs": [],
   "source": []
  }
 ],
 "metadata": {
  "kernelspec": {
   "display_name": "Python 3 (ipykernel)",
   "language": "python",
   "name": "python3"
  },
  "language_info": {
   "codemirror_mode": {
    "name": "ipython",
    "version": 3
   },
   "file_extension": ".py",
   "mimetype": "text/x-python",
   "name": "python",
   "nbconvert_exporter": "python",
   "pygments_lexer": "ipython3",
   "version": "3.9.12"
  }
 },
 "nbformat": 4,
 "nbformat_minor": 5
}
