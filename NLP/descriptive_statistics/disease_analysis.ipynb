{
 "cells": [
  {
   "cell_type": "code",
   "execution_count": 2,
   "id": "e6e6b370",
   "metadata": {},
   "outputs": [],
   "source": [
    "import pandas as pd\n",
    "import numpy as np\n",
    "import pickle"
   ]
  },
  {
   "cell_type": "code",
   "execution_count": 3,
   "id": "67aee946",
   "metadata": {},
   "outputs": [],
   "source": [
    "dir = \"..\"\n",
    "\n",
    "# discard the \"text\" data and mark which journal each article originated from\n",
    "with open(f'{dir}/savedCellArticles.pkl', 'rb') as f:\n",
    "    cell_data = pickle.load(f) # 924 articles\n",
    "    filtered_cell_data = {article: [entities, 'cell'] for article, [text, entities] in cell_data.items()}\n",
    "\n",
    "with open(f'{dir}/savedNatureArticles.pkl', 'rb') as f:\n",
    "    nature_data = pickle.load(f) # 401 articles\n",
    "    filtered_nature_data = {article: [entities, 'nature'] for article, [text, entities] in nature_data.items()}\n",
    "\n",
    "raw_combined_data = filtered_cell_data | filtered_nature_data # 1325 articles"
   ]
  },
  {
   "cell_type": "code",
   "execution_count": 4,
   "id": "110f2743",
   "metadata": {
    "scrolled": true
   },
   "outputs": [],
   "source": [
    "# check that delimiter is not a word found as an entity\n",
    "delimiter = 'delim'\n",
    "for article, [entities, origin] in raw_combined_data.items():\n",
    "    if (entities['word'] == delimiter).any():\n",
    "        print('Match found.') # we don't want to see this\n",
    "\n",
    "# write all entities to a text file\n",
    "# delimiter is used because the UMLS Norm tool sometimes outputs more than one line of output per input word\n",
    "# so this is a crude way of marking which lines in the output correspond to which line in the input\n",
    "with open('NormInput.txt', 'w', encoding='utf-8') as f:\n",
    "    for article, [entities, origin] in raw_combined_data.items():\n",
    "        f.write(f'\\n{delimiter}\\n'.join(entities['word'].tolist()))\n",
    "        f.write(f'\\n{delimiter}\\n')"
   ]
  },
  {
   "cell_type": "code",
   "execution_count": 5,
   "id": "87121484",
   "metadata": {},
   "outputs": [],
   "source": [
    "# at this point, the norm tool should have been run externally on the files\n",
    "\n",
    "# read in the Norm tool output file, process each line of output\n",
    "normalized_words = []\n",
    "with open('NormOutput.txt', 'r', encoding='utf-8') as f:\n",
    "    cache = ''\n",
    "    while True:\n",
    "        line = f.readline().strip()\n",
    "        if not line:\n",
    "            break\n",
    "        if line == f'{delimiter}|{delimiter}':\n",
    "            normalized_words.append(cache)\n",
    "        else:\n",
    "            cache = line\n",
    "normalized_words = [word.split('|')[1] for word in normalized_words]\n",
    "\n",
    "# populate the \"normalized word\" column of the corresponding entities dataframe \n",
    "for article, [entities, origin] in raw_combined_data.items():\n",
    "    n = len(entities['word'])\n",
    "    normalized_words_subset = normalized_words[:n]\n",
    "    del normalized_words[:n]\n",
    "    entities['normalized word'] = normalized_words_subset"
   ]
  },
  {
   "cell_type": "code",
   "execution_count": 6,
   "id": "83c4682c",
   "metadata": {},
   "outputs": [],
   "source": [
    "# calculate the frequency of each word\n",
    "disease_words = np.array([])\n",
    "unnormed_disease_words = np.array([])\n",
    "# word_lengths = np.array([])\n",
    "for article, [entities, origin] in raw_combined_data.items():\n",
    "    # aggregate every disease words instance\n",
    "    disease_words = np.append(disease_words, entities[entities['entity'] == 'disease']['normalized word'].astype('string').to_numpy())\n",
    "    unnormed_disease_words = np.append(unnormed_disease_words, entities[entities['entity'] == 'disease']['word'].astype('string').to_numpy())\n",
    "\n",
    "# calculate frequency of each distinct word\n",
    "uniq_disease_words, disease_counts = np.unique(disease_words, return_counts=True)\n",
    "uniq_unnormed_disease_words = np.unique(unnormed_disease_words)\n",
    "\n",
    "# sort by frequency\n",
    "disease_by_counts = {word: count for count, word in sorted(zip(disease_counts, uniq_disease_words), reverse=True)}\n",
    "disease_by_counts = pd.DataFrame({\n",
    "    'word': disease_by_counts.keys(),\n",
    "    'count': disease_by_counts.values()\n",
    "})"
   ]
  },
  {
   "cell_type": "code",
   "execution_count": 9,
   "id": "7e8da368",
   "metadata": {},
   "outputs": [],
   "source": [
    "# disease_by_counts.head(n=100).to_excel('most_frequent_diseases.xlsx')"
   ]
  },
  {
   "cell_type": "code",
   "execution_count": 10,
   "id": "1c410d3b",
   "metadata": {},
   "outputs": [],
   "source": [
    "# manual categorization for the first 100 entries\n",
    "\n",
    "# sort the general categories of diseases\n",
    "disease_categories = pd.read_excel('most_frequent_diseases.xlsx')\n",
    "categories_counts = {}\n",
    "disease_categories.fillna('', inplace=True)\n",
    "for index, row in disease_categories.iterrows():\n",
    "    if row['categorization'] == '':\n",
    "        continue\n",
    "    curr = categories_counts.get(row['categorization'], 0)\n",
    "    categories_counts[row['categorization']] = curr + int(row['count'])\n",
    "categories_by_counts = dict(sorted(categories_counts.items(), key=lambda item: item[1], reverse=True))"
   ]
  },
  {
   "cell_type": "code",
   "execution_count": 11,
   "id": "eac4ad1a",
   "metadata": {
    "scrolled": true
   },
   "outputs": [
    {
     "data": {
      "text/plain": [
       "{'cancer': 502,\n",
       " 'breast cancer': 188,\n",
       " 'cardiovascular disease': 134,\n",
       " 'neurological disease': 115,\n",
       " 'blood cancer': 87,\n",
       " 'lung cancer': 56,\n",
       " 'prostate cancer': 56,\n",
       " 'brain cancer': 54,\n",
       " 'liver cancer': 49,\n",
       " 'mental health disorder': 42,\n",
       " 'stomach cancer': 37,\n",
       " 'colorectal cancer': 28,\n",
       " 'viral infection': 20,\n",
       " 'obesity': 15,\n",
       " 'pancreatic cancer': 13,\n",
       " 'skin cancer': 12,\n",
       " 'lymphatic cancer': 11,\n",
       " 'diabetes': 11,\n",
       " 'immunodeficiency syndrome': 11,\n",
       " 'ovarian cancer': 10,\n",
       " 'kidney cancer': 10,\n",
       " 'esophageal cancer': 7,\n",
       " 'adenocarcinoma': 7,\n",
       " 'neuroblastoma': 6,\n",
       " 'pulmonary disease': 6,\n",
       " 'arthritis': 6,\n",
       " 'nasopharyngeal cancer': 5}"
      ]
     },
     "execution_count": 11,
     "metadata": {},
     "output_type": "execute_result"
    }
   ],
   "source": [
    "categories_by_counts\n",
    "# top 5 general categories:\n",
    "# 1) breast cancer\n",
    "# 2) cardiovascular disease\n",
    "# 3) neurological disease\n",
    "# 4) blood cancer\n",
    "# 5) lung cancer\n",
    "# \"cancer\" is by far the most abundant entity, but it is not \n",
    "# specific enough to be its own category. However, this suggests \n",
    "# that other types of cancer may deserve more weight than \n",
    "# cardiovascular or neurological disease."
   ]
  },
  {
   "cell_type": "code",
   "execution_count": 12,
   "id": "bcd22410",
   "metadata": {},
   "outputs": [],
   "source": [
    "# find articles enriched for the words corresponding to the\n",
    "# top 5 diseases of interest"
   ]
  },
  {
   "cell_type": "code",
   "execution_count": 13,
   "id": "78e0aa0c",
   "metadata": {},
   "outputs": [],
   "source": [
    "# find keywords for each of the selected diseases\n",
    "keywords_by_disease = {\n",
    "    'breast cancer': [],\n",
    "    'cardiovascular disease': [],\n",
    "    'neurological disease': [],\n",
    "    'blood cancer': [],\n",
    "    'lung cancer': []\n",
    "}\n",
    "for disease in keywords_by_disease.keys():\n",
    "    keywords_by_disease[disease] = list(disease_categories.loc[disease_categories['categorization'] == disease]['word'])\n",
    "\n",
    "# mark appearance of keywords for each article\n",
    "for article, [entities, origin] in raw_combined_data.items():\n",
    "    for disease, keywords in keywords_by_disease.items():\n",
    "        entities[f'is_{disease}_keyword'] = entities.apply(lambda row : 1 if row['normalized word'] in keywords else 0, axis=1)"
   ]
  },
  {
   "cell_type": "code",
   "execution_count": 14,
   "id": "d81784c1",
   "metadata": {},
   "outputs": [],
   "source": [
    "n_articles = 5 # number of articles per disease category\n",
    "articles_by_disease = {\n",
    "    'breast cancer': [],\n",
    "    'cardiovascular disease': [],\n",
    "    'neurological disease': [],\n",
    "    'blood cancer': [],\n",
    "    'lung cancer': []\n",
    "}\n",
    "\n",
    "# select n_articles number of articles most enriched for keywords for each disease category\n",
    "for disease in keywords_by_disease.keys():\n",
    "    articles_by_keyword_freqs = {}\n",
    "    for article, [entities, origin] in raw_combined_data.items():\n",
    "        articles_by_keyword_freqs[article] = sum(entities[f'is_{disease}_keyword'])\n",
    "    articles_by_disease[disease] = list(sorted(articles_by_keyword_freqs.items(), key=lambda i: i[1], reverse=True)[:n_articles])"
   ]
  },
  {
   "cell_type": "code",
   "execution_count": 15,
   "id": "36f4d74f",
   "metadata": {
    "scrolled": false
   },
   "outputs": [
    {
     "data": {
      "text/plain": [
       "{'breast cancer': [('10.1016/j.jcpa.2012.01.021', 13),\n",
       "  ('10.1016/j.bbagrm.2019.03.002', 12),\n",
       "  ('10.1016/j.bbrc.2019.02.088', 12),\n",
       "  ('10.1016/j.gene.2022.146463', 10),\n",
       "  ('10.1016/j.freeradbiomed.2016.08.031', 9)],\n",
       " 'cardiovascular disease': [('10.1016/j.tcm.2015.08.006', 18),\n",
       "  ('10.1007/s10741-015-9483-x', 10),\n",
       "  ('10.1038/s41371-019-0218-7', 9),\n",
       "  ('10.1016/j.bbadis.2020.165836', 8),\n",
       "  ('10.1016/j.neuint.2019.03.004', 7)],\n",
       " 'neurological disease': [('10.1007/s00401-017-1732-8', 13),\n",
       "  ('10.1016/j.nbd.2014.11.023', 9),\n",
       "  ('10.1016/j.biopha.2018.01.110', 8),\n",
       "  ('10.1007/s10571-013-0012-y', 8),\n",
       "  ('10.1007/s11060-018-03018-6', 8)],\n",
       " 'blood cancer': [('10.1038/leu.2010.276', 16),\n",
       "  ('10.1038/leu.2012.86', 15),\n",
       "  ('10.1016/j.leukres.2005.05.010', 8),\n",
       "  ('10.1016/j.mehy.2013.04.021', 8),\n",
       "  ('10.1007/s00018-018-2895-8', 8)],\n",
       " 'lung cancer': [('10.1053/j.seminoncol.2005.07.007', 9),\n",
       "  ('10.1007/s10555-015-9563-3', 9),\n",
       "  ('10.1016/j.jss.2003.11.024', 6),\n",
       "  ('10.3816/CLC.2008.n.053', 5),\n",
       "  ('10.1038/sj.onc.1209068', 5)]}"
      ]
     },
     "execution_count": 15,
     "metadata": {},
     "output_type": "execute_result"
    }
   ],
   "source": [
    "articles_by_disease"
   ]
  },
  {
   "cell_type": "code",
   "execution_count": 16,
   "id": "a7ca50e9",
   "metadata": {},
   "outputs": [],
   "source": [
    "# breast cancer\n",
    "breast_cancer_atc1 = cell_data['10.1016/j.jcpa.2012.01.021']"
   ]
  },
  {
   "cell_type": "code",
   "execution_count": 19,
   "id": "d874146f",
   "metadata": {},
   "outputs": [
    {
     "data": {
      "text/plain": [
       "'Elsevier LtdExpression of PAD2 in human mammary tissue. (A1) IgG control rabbit antibody showing no labelling of normal human mammary tissue. (A2) PAD2 labelling of the same section of normal human mammary tissue. (A3) High power showing distinctive nuclear and cytoplasmic labelling of normal human mammary tissue. (B1) IgG control rabbit antibody showing no labelling of DCIS. (B2) PAD2 labelling of the same section of DCIS. (B3) High power showing distinctive cytoplasmic labelling of DCIS. (C1) IgG control rabbit antibody showing no labelling of invasive mammary carcinoma. (C2) PAD2 labelling of the same section of invasive mammary carcinoma. (C3) High power showing distinctive cytoplasmic labelling of invasive mammary carcinoma.Expression of PAD2 in canine and feline carcinomas. (A1) IgG control rabbit antibody showing no labelling of canine mammary carcinoma. (A2) PAD2 labelling of the same section of canine mammary carcinoma. (A3) High-power view showing distinctive cytoplasmic and occasional nuclear labelling (arrows) of canine mammary carcinoma. (B1) IgG control rabbit antibody showing no distinctive labelling of feline mammary carcinoma. (B2) PAD2 labelling of the same section of feline mammary carcinoma. (B3) High-power view showing distinctive cytoplasmic labelling of feline mammary carcinoma.Distribution of study variables based on PAD2 cytoplasmic and nuclear labellingPositive (\\n                           =69)Negative (\\n                           =85)Median age in years (range)57 (35–87)59 (31–89)=0.87Median survival in months (range)81 (0–243)77 (1–221)=0.70Positive2230Negative6534=0.42Positive3745Negative3447=0.86Carcinoma (nuclear)69 (20)85No node involved19 (7)31Local node involved19 (4)33Distal metastasis21 (9)31=0.67DCIS5 (2)12=0.14Normal breast22 (17)8<0.01Frequency distributions based on node positive and distal metastasis revealed no significant differences, therefore reported  values for Chi-square analysis versus normal and DCIS used all human mammary carcinomas.Mean intensity scores for cytoplasmic and nuclear labellingCytoplasmic labelling intensityNuclear labelling intensityInvasive CA (\\n                           =19)1.59±0.621.5±0.53Node-positive CA (\\n                           =19)1.78±0.792.0±0.84Distant metastasis CA (\\n                           =21)1.57±0.511.33±0.50DCIS (\\n                           =17)1.60±0.78NANormal breast (\\n                           =22)2.04±0.832.06±0.75Kruskal Wallis ( value)=0.11=0.067CA, carcinoma; NA, not applicable due to only two samples positively labelled.Percentage of positive tumour score, mean labelling intensity and ratio of positive to negative labelling for PAD2Cytoplasmic labelling intensityNuclear labelling intensityProportion of cytoplasmic labellingProportion of nuclear labelling% Positive tumour scoreHuman carcinoma1.61±0.711.5±0.6169/15420/154Canine carcinoma1.48±1.102.07±1.0025/3514/351.68±1.14Feline carcinoma1.75±0.72N/A20/200/201.70±0.80value0.930.13<0.01<0.01∗†§§‡††∥∗The peptidylarginine deiminase (PAD) enzyme family converts arginine residues in proteins to citrulline. In the canine mammary gland, PAD2 expression is first detected in epithelial cells in oestrus and becomes more widely expressed during dioestrus. PAD2 appears to modify nuclear histones, suggesting a role for the enzyme in chromatin remodelling and gene regulation. Recent evidence suggests that PAD2 plays a role in gene regulation in primary human breast epithelial cells. PAD2 may therefore be involved in gene regulation as it relates to mammary development, the oestrus cycle and potentially to neoplasia. The aim of the present study was to determine whether PAD2 expression was increased or decreased in mammary carcinoma compared with normal mammary tissue. A human mammary tissue microarray and archival surgical biopsy tissues from canine and feline mammary tumours were used to demonstrate differential expression of PAD2 in mammary carcinoma that appeared to be consistent across species. Normal human and canine mammary epithelium showed strong cytoplasmic and nuclear expression of PAD2, but there was reduced PAD2 expression in mammary carcinomas from both species. Feline mammary carcinomas had complete loss of nuclear PAD2 expression. Loss of nuclear PAD2 expression may therefore represent a marker of progression towards more aggressive neoplasia.In the presence of calcium, members of the peptidylarginine deiminase (PAD) enzyme family convert positively charged arginine residues in proteins to the non-standard residue citrulline. The five family members (PAD1, 2, 3, 4 and 6) are highly conserved at the amino acid level and the chromosomal arrangement and spacing of the encoding genes is highly conserved between species (). PAD2 appears to be the ancestral homologue of the PAD gene family and is oriented in the opposite direction from that of other family members (). Furthermore, PAD2 is the most widely expressed family member, being identified in muscle, brain, haematopoietic cells (e.g. monocytes and macrophages), and most recently, in luminal epithelial cells of the mammary gland (). There is mounting evidence to suggest that the PAD enzymes play important roles in diseases such as rheumatoid arthritis, multiple sclerosis and Alzheimer’s disease ().The human PAD gene locus is located on chromosome 1.p36.13 and this region is mutated and deleted in multiple cancers and hypothesized to encode novel tumour suppressor proteins (). PAD2 expression has been identified in a number of tumours, but without firm understanding of its role or expression patterns in the neoplastic process (). Recent evidence suggests that subcellular localization of PAD2 may confer different functions, although the stimulus for this differential cellular compartmentalization is unclear (BD Cherrington, unpublished data).Multiple protein targets for PAD2-catalyzed deimination or citrullination have now been identified. In macrophages, PAD2 citrullinates the intermediate filament vimentin, possibly leading to the breakdown of nuclear envelope architecture resulting in apoptosis (). Furthermore, inhibitor of κB kinase-γ (IKK-γ), an inhibitor of nuclear factor (NF)κB and the chemokines CXCL10 and 11 can be citrullinated. This modification is believed to alter immunological responses and to potentially function in inflammation and it may also play a role in aberrant cell proliferation (). The primary target of PAD2 in nervous tissue is myelin basic protein (MBP) (). Citrullination of MBP in the optic nerve and white matter appears to lead to loss of conductance through axons and appears to contribute to the pathogenesis of glaucoma and multiple sclerosis, respectively ().PAD expression is also detected in reproductive tissues such as the pituitary gland, endometrium and mammary gland (). Expression in these tissues changes over the course of the oestrous cycle in rodents and dogs, strongly suggesting a hormonal link to PAD expression (). In the canine mammary gland, PAD2 expression is first detected in oestrus, but becomes more widely expressed during dioestrus in luminal epithelial cells forming alveolar end units. During dioestrus, the primary target of PAD2-catalyzed citrullination in the canine mammary gland appears to be histones, suggesting a role for this enzyme in chromatin remodelling and gene regulation (). In further support of this hypothesis, it has been shown recently that PAD2 is localized to the nucleus and cytoplasm of the human breast adenocarcinoma cell line (MCF-7) and primary human breast epithelial cells and appears to play a role in gene regulation (BD Cherrington, unpublished data). To date, PAD2 has not been examined at the molecular level in tumours, nor have expression patterns been examined in primary tumours in any species.Controlled expression of PAD2 occurs in normal human and canine mammary tissue, which led us to hypothesize that aberrant PAD2 expression may occur in mammary tumours. PAD2 expression clearly changes over the course of the canine oestrous cycle, indicating hormonal control; however, obtaining similar samples from women is problematic due to the relatively short intervals between menstrual cycles. To test this hypothesis, human mammary tumour array slides that contain normal tissue and breast cancer punch biopsies were used to examine PAD2 expression, comparing normal mammary epithelium, ductal carcinoma  (DCIS) and carcinoma with and without distal metastasis for alteration in expression patterns. These tissue arrays came with detailed case histories including information on survival time, remission time, oestrogen receptor status, progesterone receptor status, distal metastasis and age at diagnosis. These parameters were assessed against PAD2 labelling in order to determine any associations with PAD2 expression. Comparative studies were undertaken in order to determine whether alterations in PAD2 expression occur across species in mammary neoplasia. Canine mammary tumours are generally considered less aggressive than those of the cat (), providing a valuable comparative aspect.Human mammary tissue array slides were obtained from the Cooperative Breast Cancer Tissue Resource (National Cancer Institute) and from the Cooperative Human Tissue Network (CHTN), University of Virginia, USA. These microarrays included normal breast tissue (\\n                        =30), DCIS (\\n                        =17) and invasive carcinomas (\\n                        =154). Invasive carcinomas were further subdivided based on classification of no regional metastasis (\\n                        =50), regional lymph node metastasis (\\n                        =52) and distal metastasis (\\n                        =52). Thirty-five canine and 20 feline paraffin wax-embedded samples of mammary tumours were obtained from the Cornell University Anatomic Pathology Tissue Archive. These biopsy samples were collected from 1998 to 2009 and all feline and canine tissues were confirmed as carcinomas by a veterinary pathologist (ELB and RF, respectively).Immunohistochemistry (IHC) was performed as described by . Sections were deparrafinized and then incubated for 10min in 0.5% HO in methanol to quench endogenous peroxidase activity. For antigen retrieval, slides were boiled twice for 10min in sodium citrate buffer (pH 6.8, 0.01M). After cooling, slides were washed once in phosphate buffered saline (PBS) and then blocked in 10% normal goat serum and 2× casein (Vector Laboratories, Burlingame, California, USA) for 20min at room temperature in a humidified chamber. Slides were blotted to remove excess blocking solution and then anti-PAD2 rabbit polyclonal antibody (ProteinTech, Chicago, Illinois, USA; catalogue number #122100-1-AP; 1 in 100 dilution) was applied to the slides for 2h at room temperature. Following three washes with PBS containing 0.1% Brij, slides were incubated with the biotinylated secondary goat anti-rabbit immunoglobulin (Ig) G antibody (Vector Laboratories; 1 in 200 dilution) for 1h at room temperature then washed three times in PBS with 0.1% Brij. Further incubation for 20 min with prediluted avidin horseradish peroxidase substrate was performed (Vector Laboratories). Slides were incubated in 3,3′-diaminobenzidine as chromogen (Vector Laboratories) according to the manufacturer’s protocol, washed and then counterstained with Gill’s haematoxylin and mounted under a coverslip. During each experiment, duplicate slides were treated with control rabbit IgG at the appropriate concentration as a negative control. Three veterinary pathologists (AD, ELB and RF) and one human pathologist (DS) developed criteria for scoring the cytoplasmic and nuclear labelling based on previously published criteria (). The human pathologist (DS) examined the human microarray slides and the veterinary pathologists examined the canine (RF) and feline (AD, ELB) slides and controls, and provided an overall labelling intensity score as well as indicating whether this was cytoplasmic or nuclear expression. Labelling was assessed as either positive or negative. The labelling intensity score was: 0, no labelling; 1, weak labelling; 2, moderate labelling; or 3, marked labelling. Canine and feline tissues were also categorized for relative percentage of labelling in the neoplasm as: negative (0) if <10% of neoplastic cells were labelled, patchy (1) if 11–40% of cells were labelled, multifocal (2) if 41–70% of cells were labelled and diffuse (3) if >70% of the neoplastic cells were labelled. It was not possible to ascribe this score to the human tissues due to the paucity of tissue in each array.Data were analyzed using dichotomization based on PAD2 labelling as positive or negative. Chi-square analysis was performed using classification of tissue as lymph node-positive carcinoma, lymph node-negative carcinoma, distal metastasis, DCIS or normal breast tissue. Further stratification based on cytoplasmic versus nuclear labelling was performed based on tumour classification. If frequencies were <5 for a specific category of positive or negative nuclear or cytoplasmic labelling in any one cell, then Fisher’s exact testing was performed rather than Chi-square analysis. Other variables, such as oestrogen receptor status, progesterone receptor status and histological grade (1–3), were also analyzed for PAD2-positive and -negative tumours by Chi-square testing. Further comparative assessment of nuclear and cytoplasmic labelling frequency was made across species using Chi-square or Fisher’s exact analysis. All categorical analyses were performed at \\n                        <0.05.Continuous variables such as age and survival time were assessed against positive and negative PAD2 labelling using Wilcoxon ranked sum tests at \\n                        <0.05. Further analysis of cytoplasmic and nuclear labelling intensity was evaluated across normal breast tissue, DCIS and metastatic carcinoma subtypes by Kruskal–Wallis analysis of variance at \\n                        <0.05. As the human tumour arrays were very small, relative proportions of positive cells were not assessed, but the large sections of feline and canine tumours allowed for this measurement. Proportions of positive and negative labelling canine and feline tumours were examined by Chi-square analysis to determine species differences in expression of PAD2.In order to investigate the role of PAD2 in breast cancer and to examine the potential link between loss of PAD2 expression and breast cancer progression, human breast cancer tissue arrays were analyzed. \\n                         shows representative images of PAD2 labelling patterns for normal human breast tissue, DCIS and invasive carcinomas. Carcinoma tissue displayed significantly less nuclear labelling compared with normal breast tissue (, \\n                        ). PAD2 cytoplasmic or nuclear labelling was not significantly associated with age, survival time, oestrogen or progesterone receptor status (). Cytoplasmic and nuclear PAD2 labelling intensity was also determined for all of the five tissue classifications (\\n                        ). There were no significant differences between PAD2 labelling intensity, but there was a trend towards higher nuclear labelling in normal mammary tissue than in carcinomas (\\n                        <0.07).Due to the small size of the tissue samples in the human microarray the relative percentage of labelling of the tumour was not assessed, but this parameter was examined in the canine and feline samples where there was ample neoplastic tissue to evaluate on each slide. Twelve of the 35 canine tumours examined were from entire female dogs, 21 were from neutered dogs and the neutering status of two animals was unknown. Adequate normal mammary tissue was identified and examined in 16 of the 35 sections, with 12 of the 16 displaying prominent cytoplasmic labelling and 10 with prominent nuclear PAD2 expression in >50% of the cells examined. Of 35 canine tumours, 25 had cytoplasmic expression of PAD2, while only 14 had nuclear expression (\\n                        A). The average labelling intensity was 1.48±1.10 and the relative mean proportion of the tumour labelled was 1.68±1.14 (\\n                        ).Three of the 20 feline tumours were from entire female cats; the remaining animals were neutered. Six samples had adequate normal mammary tissue for assessment of PAD2 labelling. Four of these showed prominent cytoplasmic and nuclear expression by >50% of the cells. All 20 tumours had moderate cytoplasmic labelling, but none had nuclear expression (B). The cytoplasmic labelling had a mean intensity of 1.75±0.72 and the mean proportion of positively labelled tumour tissue was 1.70±0.80 ().When assessing labelling intensity for PAD2 across the mammary tumours in the three species examined there was no significant difference. However, cytoplasmic labelling frequency was significantly greater in cat and dog tumours than in human tumours (\\n                        <0.01) and the frequency of nuclear labelling was significantly higher in canine mammary tumours than in human or feline tumours (\\n                        <0.01). There was a significantly higher frequency of nuclear labelling in human tumours compared with feline tumours (\\n                        <0.01; ).In recent years there has been an increase in investigation of the PAD proteins due to evidence for their role in various disease processes such as rheumatoid arthritis, multiple sclerosis, Alzheimer’s disease and most recently cancer (). In terms of PAD proteins and cancer, PAD4 has been most widely investigated and characterized in terms of tissue expression patterns (). Interestingly, PAD2 is the ancestral isoform of this protein family and is the most widely expressed; yet despite this fact, no direct research has determined whether PAD2 is expressed in tumours. However, indirect evidence from microarray analysis of human breast tumours suggests that PAD2 is one of 29 genes up-regulated in HER2 positive tumours ().PAD2 expression is hormonally regulated in the canine mammary gland and PAD2 expression in human breast tissue shows remarkably similar tissue expression patterns with strongest expression localized to the nuclear and cytoplasmic compartments of luminal epithelial cells. Given that PAD2 is expressed in human and canine mammary tissue and appears hormonally regulated, we hypothesized that PAD2 may be expressed in mammary tumours of various species and may play a role in tumourigenesis. Cytoplasmic and nuclear expression was clearly apparent from examination of adjacent normal peripheral mammary tissue in canine and feline samples. The low numbers of entire and neutered animals, combined with the lack of knowledge regarding stage of the oestrous cycle, made elaboration regarding hormonal regulation impossible; however, normal mammary tissue more often than not displayed distinct cytoplasmic and nuclear immunohistochemical labelling. Our primary focus was to examine the possibility that using a wide sample of mammary tumours from multiple species might allow us to shed light on the aggressive nature or types of tumours that express PAD2, regardless of tumour grading or histological pattern. Traditionally, the aggressiveness of human tumours has been associated with genetic mutations such as BRCA alterations, oestrogen or progesterone receptor status or the upregulation of HER2 (). These markers have not been shown to be useful in the characterization of canine and feline mammary carcinomas, which still relies on histological patterns, assessment of anaplasia and mitotic index (). Feline mammary tumours have traditionally been found to be more aggressive and metastatic than those of the dog, and feline tumours are traditionally negative for oestrogen receptor expression ().Both human and canine luminal mammary epithelial cell populations showed strong labelling of both the cytoplasmic and nuclear compartments. Interestingly, similar expression was also detected in hyperplastic mammary tissue in both the cytoplasmic and nuclear compartments of the canine and feline sections that contained surrounding mammary tissue. As human and dog tumours progress and become pathologically classified as carcinomas, PAD2 expression within the nucleus diminishes, while cytoplasmic expression is retained (C, 1D and A). Canine mammary tumours appear to model accurately the PAD2 expression patterns in human breast tumours. These results support studies using a genome-wide comparative analysis of transcriptional changes, which identified numerous similarities between the gene expression profiles of human and canine mammary tumours ().Normal feline mammary epithelium, based on the limited examination in peripheral tissues, showed both nuclear and cytoplasmic expression of PAD2, much like canine and human tissues. Yet, in contrast to human and canine tumours, PAD2 expression in feline mammary tumours was purely cytoplasmic, displaying no nuclear labelling (). These findings, coupled with the traditionally aggressive nature of feline mammary tumours, suggest that PAD2 nuclear expression may be related to controlled proliferation or cell stasis, while loss of nuclear PAD2 is associated with dysregulation of proliferation and carcinomatous behaviour. Recent microarray data comparing expression profiles of stable shRNA control versus PAD2-knockdown MCF-7 cell lines suggest that not only does PAD2 play a role in gene expression, but that many of the significantly up- and down-regulated genes are known to be involved in breast cancer tumourigenesis (BD Cherrington, unpublished data). Therefore, we believe that the loss of nuclear PAD2 expression in mammary tumours represents the loss of regulatory function of the PAD2 gene, resulting in an increase in uncontrolled cell proliferation.In conclusion, based on PAD2 expression patterns, there is definitive loss of nuclear PAD2 in carcinomas across the three species investigated. Feline carcinomas show complete loss of nuclear PAD2 expression. Although the implications of this loss are poorly defined, the extremely aggressive nature of feline mammary carcinoma suggests that the loss of nuclear PAD2 may contribute to the transformative process of normal epithelium to aggressive neoplastic epithelium through mechanisms yet to be elucidated. PAD2 nuclear immunolabelling may serve as a marker for neoplastic transformation or aggressiveness of tumour type. Further research into the function of PAD2 in the nucleus and examination of oncogenes and tumour suppressors regulated by this histone-modifying enzyme are warranted.The authors would like to thank Dr. E. Buckles for allowing her resident Dr. A. Diep to participate in the project and for her help in identifying tissues for study. Grant support for S.A. Coonrod was a  ().Identification and validation of an  gene expression signature in breast cancersIncreased  expression in blood and tissues of patients with malignant tumorsComparative analysis of the mouse and human peptidylarginine deiminase gene clusters reveals highly conserved non-coding segments and a new human gene,'"
      ]
     },
     "execution_count": 19,
     "metadata": {},
     "output_type": "execute_result"
    }
   ],
   "source": [
    "breast_cancer_atc1[0]"
   ]
  },
  {
   "cell_type": "code",
   "execution_count": null,
   "id": "06ecf721",
   "metadata": {},
   "outputs": [],
   "source": []
  }
 ],
 "metadata": {
  "kernelspec": {
   "display_name": "Python 3 (ipykernel)",
   "language": "python",
   "name": "python3"
  },
  "language_info": {
   "codemirror_mode": {
    "name": "ipython",
    "version": 3
   },
   "file_extension": ".py",
   "mimetype": "text/x-python",
   "name": "python",
   "nbconvert_exporter": "python",
   "pygments_lexer": "ipython3",
   "version": "3.9.12"
  }
 },
 "nbformat": 4,
 "nbformat_minor": 5
}
